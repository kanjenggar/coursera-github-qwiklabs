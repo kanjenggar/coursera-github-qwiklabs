{
  "nbformat": 4,
  "nbformat_minor": 0,
  "metadata": {
    "colab": {
      "provenance": [],
      "include_colab_link": true
    },
    "kernelspec": {
      "name": "python3",
      "display_name": "Python 3"
    },
    "language_info": {
      "name": "python"
    }
  },
  "cells": [
    {
      "cell_type": "markdown",
      "metadata": {
        "id": "view-in-github",
        "colab_type": "text"
      },
      "source": [
        "<a href=\"https://colab.research.google.com/github/kanjenggar/coursera-github-qwiklabs/blob/main/Food_Greenix/greenix_git_food_emission.ipynb\" target=\"_parent\"><img src=\"https://colab.research.google.com/assets/colab-badge.svg\" alt=\"Open In Colab\"/></a>"
      ]
    },
    {
      "cell_type": "code",
      "execution_count": 1,
      "metadata": {
        "id": "E9bBx9WfAe_4",
        "colab": {
          "base_uri": "https://localhost:8080/"
        },
        "outputId": "460e0ae3-577b-4acc-faad-6db8fbf9919d"
      },
      "outputs": [
        {
          "output_type": "stream",
          "name": "stdout",
          "text": [
            "Looking in indexes: https://pypi.org/simple, https://us-python.pkg.dev/colab-wheels/public/simple/\n",
            "Collecting tensorflow==2.13.0rc1\n",
            "  Downloading tensorflow-2.13.0rc1-cp310-cp310-manylinux_2_17_x86_64.manylinux2014_x86_64.whl (524.1 MB)\n",
            "\u001b[2K     \u001b[90m━━━━━━━━━━━━━━━━━━━━━━━━━━━━━━━━━━━━━━━\u001b[0m \u001b[32m524.1/524.1 MB\u001b[0m \u001b[31m2.4 MB/s\u001b[0m eta \u001b[36m0:00:00\u001b[0m\n",
            "\u001b[?25hRequirement already satisfied: absl-py>=1.0.0 in /usr/local/lib/python3.10/dist-packages (from tensorflow==2.13.0rc1) (1.4.0)\n",
            "Requirement already satisfied: astunparse>=1.6.0 in /usr/local/lib/python3.10/dist-packages (from tensorflow==2.13.0rc1) (1.6.3)\n",
            "Requirement already satisfied: flatbuffers>=23.1.21 in /usr/local/lib/python3.10/dist-packages (from tensorflow==2.13.0rc1) (23.3.3)\n",
            "Requirement already satisfied: gast<=0.4.0,>=0.2.1 in /usr/local/lib/python3.10/dist-packages (from tensorflow==2.13.0rc1) (0.4.0)\n",
            "Requirement already satisfied: google-pasta>=0.1.1 in /usr/local/lib/python3.10/dist-packages (from tensorflow==2.13.0rc1) (0.2.0)\n",
            "Requirement already satisfied: grpcio<2.0,>=1.24.3 in /usr/local/lib/python3.10/dist-packages (from tensorflow==2.13.0rc1) (1.54.0)\n",
            "Requirement already satisfied: h5py>=2.9.0 in /usr/local/lib/python3.10/dist-packages (from tensorflow==2.13.0rc1) (3.8.0)\n",
            "Collecting keras<2.14,>=2.13.1rc0 (from tensorflow==2.13.0rc1)\n",
            "  Downloading keras-2.13.1rc0-py3-none-any.whl (1.7 MB)\n",
            "\u001b[2K     \u001b[90m━━━━━━━━━━━━━━━━━━━━━━━━━━━━━━━━━━━━━━━━\u001b[0m \u001b[32m1.7/1.7 MB\u001b[0m \u001b[31m21.2 MB/s\u001b[0m eta \u001b[36m0:00:00\u001b[0m\n",
            "\u001b[?25hRequirement already satisfied: libclang>=13.0.0 in /usr/local/lib/python3.10/dist-packages (from tensorflow==2.13.0rc1) (16.0.0)\n",
            "Requirement already satisfied: numpy>=1.22 in /usr/local/lib/python3.10/dist-packages (from tensorflow==2.13.0rc1) (1.22.4)\n",
            "Requirement already satisfied: opt-einsum>=2.3.2 in /usr/local/lib/python3.10/dist-packages (from tensorflow==2.13.0rc1) (3.3.0)\n",
            "Requirement already satisfied: packaging in /usr/local/lib/python3.10/dist-packages (from tensorflow==2.13.0rc1) (23.1)\n",
            "Requirement already satisfied: protobuf!=4.21.0,!=4.21.1,!=4.21.2,!=4.21.3,!=4.21.4,!=4.21.5,<5.0.0dev,>=3.20.3 in /usr/local/lib/python3.10/dist-packages (from tensorflow==2.13.0rc1) (3.20.3)\n",
            "Requirement already satisfied: setuptools in /usr/local/lib/python3.10/dist-packages (from tensorflow==2.13.0rc1) (67.7.2)\n",
            "Requirement already satisfied: six>=1.12.0 in /usr/local/lib/python3.10/dist-packages (from tensorflow==2.13.0rc1) (1.16.0)\n",
            "Collecting tensorboard<2.14,>=2.13 (from tensorflow==2.13.0rc1)\n",
            "  Downloading tensorboard-2.13.0-py3-none-any.whl (5.6 MB)\n",
            "\u001b[2K     \u001b[90m━━━━━━━━━━━━━━━━━━━━━━━━━━━━━━━━━━━━━━━━\u001b[0m \u001b[32m5.6/5.6 MB\u001b[0m \u001b[31m71.7 MB/s\u001b[0m eta \u001b[36m0:00:00\u001b[0m\n",
            "\u001b[?25hCollecting tensorflow-estimator<2.14,>=2.13.0rc0 (from tensorflow==2.13.0rc1)\n",
            "  Downloading tensorflow_estimator-2.13.0rc0-py2.py3-none-any.whl (440 kB)\n",
            "\u001b[2K     \u001b[90m━━━━━━━━━━━━━━━━━━━━━━━━━━━━━━━━━━━━━━\u001b[0m \u001b[32m440.8/440.8 kB\u001b[0m \u001b[31m34.6 MB/s\u001b[0m eta \u001b[36m0:00:00\u001b[0m\n",
            "\u001b[?25hRequirement already satisfied: termcolor>=1.1.0 in /usr/local/lib/python3.10/dist-packages (from tensorflow==2.13.0rc1) (2.3.0)\n",
            "Requirement already satisfied: typing-extensions>=3.6.6 in /usr/local/lib/python3.10/dist-packages (from tensorflow==2.13.0rc1) (4.5.0)\n",
            "Requirement already satisfied: wrapt>=1.11.0 in /usr/local/lib/python3.10/dist-packages (from tensorflow==2.13.0rc1) (1.14.1)\n",
            "Requirement already satisfied: tensorflow-io-gcs-filesystem>=0.23.1 in /usr/local/lib/python3.10/dist-packages (from tensorflow==2.13.0rc1) (0.32.0)\n",
            "Requirement already satisfied: wheel<1.0,>=0.23.0 in /usr/local/lib/python3.10/dist-packages (from astunparse>=1.6.0->tensorflow==2.13.0rc1) (0.40.0)\n",
            "Requirement already satisfied: google-auth<3,>=1.6.3 in /usr/local/lib/python3.10/dist-packages (from tensorboard<2.14,>=2.13->tensorflow==2.13.0rc1) (2.17.3)\n",
            "Requirement already satisfied: google-auth-oauthlib<1.1,>=0.5 in /usr/local/lib/python3.10/dist-packages (from tensorboard<2.14,>=2.13->tensorflow==2.13.0rc1) (1.0.0)\n",
            "Requirement already satisfied: markdown>=2.6.8 in /usr/local/lib/python3.10/dist-packages (from tensorboard<2.14,>=2.13->tensorflow==2.13.0rc1) (3.4.3)\n",
            "Requirement already satisfied: requests<3,>=2.21.0 in /usr/local/lib/python3.10/dist-packages (from tensorboard<2.14,>=2.13->tensorflow==2.13.0rc1) (2.27.1)\n",
            "Requirement already satisfied: tensorboard-data-server<0.8.0,>=0.7.0 in /usr/local/lib/python3.10/dist-packages (from tensorboard<2.14,>=2.13->tensorflow==2.13.0rc1) (0.7.0)\n",
            "Requirement already satisfied: werkzeug>=1.0.1 in /usr/local/lib/python3.10/dist-packages (from tensorboard<2.14,>=2.13->tensorflow==2.13.0rc1) (2.3.0)\n",
            "Requirement already satisfied: cachetools<6.0,>=2.0.0 in /usr/local/lib/python3.10/dist-packages (from google-auth<3,>=1.6.3->tensorboard<2.14,>=2.13->tensorflow==2.13.0rc1) (5.3.0)\n",
            "Requirement already satisfied: pyasn1-modules>=0.2.1 in /usr/local/lib/python3.10/dist-packages (from google-auth<3,>=1.6.3->tensorboard<2.14,>=2.13->tensorflow==2.13.0rc1) (0.3.0)\n",
            "Requirement already satisfied: rsa<5,>=3.1.4 in /usr/local/lib/python3.10/dist-packages (from google-auth<3,>=1.6.3->tensorboard<2.14,>=2.13->tensorflow==2.13.0rc1) (4.9)\n",
            "Requirement already satisfied: requests-oauthlib>=0.7.0 in /usr/local/lib/python3.10/dist-packages (from google-auth-oauthlib<1.1,>=0.5->tensorboard<2.14,>=2.13->tensorflow==2.13.0rc1) (1.3.1)\n",
            "Requirement already satisfied: urllib3<1.27,>=1.21.1 in /usr/local/lib/python3.10/dist-packages (from requests<3,>=2.21.0->tensorboard<2.14,>=2.13->tensorflow==2.13.0rc1) (1.26.15)\n",
            "Requirement already satisfied: certifi>=2017.4.17 in /usr/local/lib/python3.10/dist-packages (from requests<3,>=2.21.0->tensorboard<2.14,>=2.13->tensorflow==2.13.0rc1) (2022.12.7)\n",
            "Requirement already satisfied: charset-normalizer~=2.0.0 in /usr/local/lib/python3.10/dist-packages (from requests<3,>=2.21.0->tensorboard<2.14,>=2.13->tensorflow==2.13.0rc1) (2.0.12)\n",
            "Requirement already satisfied: idna<4,>=2.5 in /usr/local/lib/python3.10/dist-packages (from requests<3,>=2.21.0->tensorboard<2.14,>=2.13->tensorflow==2.13.0rc1) (3.4)\n",
            "Requirement already satisfied: MarkupSafe>=2.1.1 in /usr/local/lib/python3.10/dist-packages (from werkzeug>=1.0.1->tensorboard<2.14,>=2.13->tensorflow==2.13.0rc1) (2.1.2)\n",
            "Requirement already satisfied: pyasn1<0.6.0,>=0.4.6 in /usr/local/lib/python3.10/dist-packages (from pyasn1-modules>=0.2.1->google-auth<3,>=1.6.3->tensorboard<2.14,>=2.13->tensorflow==2.13.0rc1) (0.5.0)\n",
            "Requirement already satisfied: oauthlib>=3.0.0 in /usr/local/lib/python3.10/dist-packages (from requests-oauthlib>=0.7.0->google-auth-oauthlib<1.1,>=0.5->tensorboard<2.14,>=2.13->tensorflow==2.13.0rc1) (3.2.2)\n",
            "Installing collected packages: tensorflow-estimator, keras, tensorboard, tensorflow\n",
            "  Attempting uninstall: tensorflow-estimator\n",
            "    Found existing installation: tensorflow-estimator 2.12.0\n",
            "    Uninstalling tensorflow-estimator-2.12.0:\n",
            "      Successfully uninstalled tensorflow-estimator-2.12.0\n",
            "  Attempting uninstall: keras\n",
            "    Found existing installation: keras 2.12.0\n",
            "    Uninstalling keras-2.12.0:\n",
            "      Successfully uninstalled keras-2.12.0\n",
            "  Attempting uninstall: tensorboard\n",
            "    Found existing installation: tensorboard 2.12.2\n",
            "    Uninstalling tensorboard-2.12.2:\n",
            "      Successfully uninstalled tensorboard-2.12.2\n",
            "  Attempting uninstall: tensorflow\n",
            "    Found existing installation: tensorflow 2.12.0\n",
            "    Uninstalling tensorflow-2.12.0:\n",
            "      Successfully uninstalled tensorflow-2.12.0\n",
            "Successfully installed keras-2.13.1rc0 tensorboard-2.13.0 tensorflow-2.13.0rc1 tensorflow-estimator-2.13.0rc0\n"
          ]
        }
      ],
      "source": [
        "!pip install tensorflow==2.13.0rc1"
      ]
    },
    {
      "cell_type": "markdown",
      "source": [
        "**Link Data:**\n",
        "[Data Food Consumption](https://docs.google.com/spreadsheets/d/1xoFSoAtMQAEOL27kttt5OyJpPcANUm0D/edit#gid=864993682\n",
        ")\n",
        "\n",
        "**Keterangan kolom:**\n",
        "- nomer: nomer urut responden\n",
        "- nama: nama responden\n",
        "- email: email responden\n",
        "- tfep_kgco2e: total emisi dari seluruh makanan meliputi jagung, beras, singkong, kacangan-kacangan, daging unggas, minyak kelapa sawit \n",
        "- num_people_jagung: jumlah orang yang ikut makan jagung\n",
        "- consumption_jagung: jumlah konsumsi jagung (kg)\n",
        "- factor_jagung: nilai emisi dari jagung (kgCO2e)\n",
        "- emission_jagung: total emisi per orang yang dihasilkan dari mengkonsumsi jagung (kg CO2e)\n",
        "- num_people_beras: jumlah orang yang ikut makan beras\n",
        "- consumption_beras: jumlah konsumsi beras (kg)\n",
        "- factor_beras: nilai emisi dari beras (kgCO2e)\n",
        "- emission_beras: total emisi per orang yang dihasilkan dari mengkonsumsi beras (kg CO2e)\n",
        "- num_people_singkong: jumlah orang yang ikut makan singkong\n",
        "- consumption_singkong: jumlah konsumsi singkong (kg)\n",
        "- factor_singkong: nilai emisi dari singkong (kgCO2e)\n",
        "- emission_singkong: total emisi per orang yang dihasilkan dari mengkonsumsi singkong (kg CO2e)\n",
        "- num_people_kacang_kacangan: jumlah orang yang ikut makan kacang_kacangan\n",
        "- consumption_kacang_kacangan: jumlah konsumsi kacang_kacangan (kg)\n",
        "- factor_kacang_kacangan: nilai emisi dari kacang_kacangan (kgCO2e)\n",
        "- emission_kacang_kacangan: total emisi per orang yang dihasilkan dari mengkonsumsi kacang_kacangan (kg CO2e)\n",
        "- num_people_daging_unggas: jumlah orang yang ikut makan daging_unggas\n",
        "- consumption_daging_unggas: jumlah konsumsi daging_unggas (kg)\n",
        "- factor_daging_unggas: nilai emisi dari daging_unggas (kgCO2e)\n",
        "- emission_daging_unggas: total emisi per orang yang dihasilkan dari mengkonsumsi daging_unggas (kg CO2e)\n",
        "- num_people_minyak_kelapa_sawit: jumlah orang yang ikut makan minyak_kelapa_sawit\n",
        "- consumption_minyak_kelapa_sawit: jumlah konsumsi minyak_kelapa_sawit (kg)\n",
        "- factor_minyak_kelapa_sawit: nilai emisi dari minyak_kelapa_sawit (kgCO2e)\n",
        "- emission_minyak_kelapa_sawit: total emisi per orang yang dihasilkan dari mengkonsumsi minyak_kelapa_sawit (kg CO2e)"
      ],
      "metadata": {
        "id": "XOC8_JbeMucR"
      }
    },
    {
      "cell_type": "code",
      "source": [
        "import pandas as pd\n",
        "import numpy as np\n",
        "import matplotlib.pyplot as plt\n",
        "import seaborn as sns\n",
        "import tensorflow as tf\n",
        "from tensorflow.keras.models import Sequential\n",
        "from tensorflow.keras.layers import Dense, Dropout\n",
        "from tensorflow.keras.optimizers import Adam\n",
        "from tensorflow.keras.callbacks import EarlyStopping\n",
        "from tensorflow.keras.models import load_model\n",
        "from sklearn.model_selection import train_test_split\n",
        "from sklearn.metrics import mean_absolute_error\n",
        "from sklearn.decomposition import PCA"
      ],
      "metadata": {
        "id": "uAUToB4TDQKN"
      },
      "execution_count": 2,
      "outputs": []
    },
    {
      "cell_type": "code",
      "source": [
        "# ppath file CSV yang telah diunggah\n",
        "file_path = '/content/git_greenix_food.csv'\n",
        "\n",
        "# Membaca file CSV ke DataFrame\n",
        "df = pd.read_csv(file_path)\n",
        "\n",
        "# Menampilkan baris pertama\n",
        "print(df.head())"
      ],
      "metadata": {
        "id": "Gc4H246BDQM1",
        "colab": {
          "base_uri": "https://localhost:8080/"
        },
        "outputId": "61d09a44-067e-418d-dea2-0e5ed8b7703a"
      },
      "execution_count": 3,
      "outputs": [
        {
          "output_type": "stream",
          "name": "stdout",
          "text": [
            "   nomer         nama                      email  tfep_kgco2e  \\\n",
            "0      1       Aan **       *******a02@gmail.com    10.225000   \n",
            "1      2      Abdul *    *******e.4715@gmail.com     4.250000   \n",
            "2      3  Abhiseqa **  *******adatezan@gmail.com     6.883333   \n",
            "3      4    Achmad **     *******iki15@gmail.com     3.562500   \n",
            "4      5    Achmad **          *******@gmail.com     2.775000   \n",
            "\n",
            "   num_people_jagung  consumption_jagung  factor_jagung  emission_jagung  \\\n",
            "0                  2                0.00            2.3            0.000   \n",
            "1                  1                0.25            2.3            0.575   \n",
            "2                  1                0.00            2.3            0.000   \n",
            "3                  1                0.00            2.3            0.000   \n",
            "4                  1                0.25            2.3            0.575   \n",
            "\n",
            "   num_people_beras  consumption_beras  ...  factor_kacang_kacangan  \\\n",
            "0                 2               0.50  ...                     3.8   \n",
            "1                 1               0.25  ...                     3.8   \n",
            "2                 3               1.00  ...                     3.8   \n",
            "3                 1               0.00  ...                     3.8   \n",
            "4                 1               0.25  ...                     3.8   \n",
            "\n",
            "   emission_kacang_kacangan  num_people_daging_unggas  \\\n",
            "0                      0.00                         1   \n",
            "1                      0.95                         2   \n",
            "2                      0.95                         1   \n",
            "3                      0.00                         2   \n",
            "4                      0.00                         1   \n",
            "\n",
            "   consumption_daging_unggas  factor_daging_unggas  emission_daging_unggas  \\\n",
            "0                       0.25                  20.1                  5.0250   \n",
            "1                       0.00                  20.1                  0.0000   \n",
            "2                       0.00                  20.1                  0.0000   \n",
            "3                       0.25                  20.1                  2.5125   \n",
            "4                       0.00                  20.1                  0.0000   \n",
            "\n",
            "   num_people_minyak_kelapa_sawit  consumption_minyak_kelapa_sawit  \\\n",
            "0                               1                             0.25   \n",
            "1                               1                             0.00   \n",
            "2                               1                             0.25   \n",
            "3                               2                             0.00   \n",
            "4                               2                             0.00   \n",
            "\n",
            "   factor_minyak_kelapa_sawit  emission_minyak_kelapa_sawit  \n",
            "0                          12                           3.0  \n",
            "1                          12                           0.0  \n",
            "2                          12                           3.0  \n",
            "3                          12                           0.0  \n",
            "4                          12                           0.0  \n",
            "\n",
            "[5 rows x 28 columns]\n"
          ]
        }
      ]
    },
    {
      "cell_type": "code",
      "source": [
        "# cek data duplikat\n",
        "df.duplicated().sum()"
      ],
      "metadata": {
        "id": "tZPv1NZxD0_K",
        "colab": {
          "base_uri": "https://localhost:8080/"
        },
        "outputId": "23f71dce-3d57-4119-e5a1-fb9aeb5f8372"
      },
      "execution_count": 4,
      "outputs": [
        {
          "output_type": "execute_result",
          "data": {
            "text/plain": [
              "0"
            ]
          },
          "metadata": {},
          "execution_count": 4
        }
      ]
    },
    {
      "cell_type": "code",
      "source": [
        "# Membersihkan data yang tidak lengkap (Jika ada)\n",
        "df = df.dropna(axis=0)"
      ],
      "metadata": {
        "id": "wF3L1IQ_D1Bm"
      },
      "execution_count": 5,
      "outputs": []
    },
    {
      "cell_type": "code",
      "source": [
        "# Membersihkan data yang tidak lengkap (Jika ada)\n",
        "df = df.dropna(axis=0)"
      ],
      "metadata": {
        "id": "1ufyJCjuDQPi"
      },
      "execution_count": 6,
      "outputs": []
    },
    {
      "cell_type": "code",
      "source": [
        "df = df.drop(['factor_jagung', 'factor_beras', 'factor_singkong','factor_kacang_kacangan','factor_daging_unggas','factor_minyak_kelapa_sawit'], axis=1)"
      ],
      "metadata": {
        "id": "XD-imMOvDQR_"
      },
      "execution_count": 7,
      "outputs": []
    },
    {
      "cell_type": "code",
      "source": [
        "df.head()"
      ],
      "metadata": {
        "id": "CFnFwhotDuRy",
        "colab": {
          "base_uri": "https://localhost:8080/",
          "height": 352
        },
        "outputId": "a8c67c22-7462-48b3-ff35-233b5b0dbd70"
      },
      "execution_count": 8,
      "outputs": [
        {
          "output_type": "execute_result",
          "data": {
            "text/plain": [
              "   nomer         nama                      email  tfep_kgco2e  \\\n",
              "0      1       Aan **       *******a02@gmail.com    10.225000   \n",
              "1      2      Abdul *    *******e.4715@gmail.com     4.250000   \n",
              "2      3  Abhiseqa **  *******adatezan@gmail.com     6.883333   \n",
              "3      4    Achmad **     *******iki15@gmail.com     3.562500   \n",
              "4      5    Achmad **          *******@gmail.com     2.775000   \n",
              "\n",
              "   num_people_jagung  consumption_jagung  emission_jagung  num_people_beras  \\\n",
              "0                  2                0.00            0.000                 2   \n",
              "1                  1                0.25            0.575                 1   \n",
              "2                  1                0.00            0.000                 3   \n",
              "3                  1                0.00            0.000                 1   \n",
              "4                  1                0.25            0.575                 1   \n",
              "\n",
              "   consumption_beras  emission_beras  ...  emission_singkong  \\\n",
              "0               0.50        2.200000  ...              0.000   \n",
              "1               0.25        2.200000  ...              0.525   \n",
              "2               1.00        2.933333  ...              0.000   \n",
              "3               0.00        0.000000  ...              1.050   \n",
              "4               0.25        2.200000  ...              0.000   \n",
              "\n",
              "   num_people_kacang_kacangan  consumption_kacang_kacangan  \\\n",
              "0                           5                         0.00   \n",
              "1                           1                         0.25   \n",
              "2                           1                         0.25   \n",
              "3                           1                         0.00   \n",
              "4                           1                         0.00   \n",
              "\n",
              "   emission_kacang_kacangan  num_people_daging_unggas  \\\n",
              "0                      0.00                         1   \n",
              "1                      0.95                         2   \n",
              "2                      0.95                         1   \n",
              "3                      0.00                         2   \n",
              "4                      0.00                         1   \n",
              "\n",
              "   consumption_daging_unggas  emission_daging_unggas  \\\n",
              "0                       0.25                  5.0250   \n",
              "1                       0.00                  0.0000   \n",
              "2                       0.00                  0.0000   \n",
              "3                       0.25                  2.5125   \n",
              "4                       0.00                  0.0000   \n",
              "\n",
              "   num_people_minyak_kelapa_sawit  consumption_minyak_kelapa_sawit  \\\n",
              "0                               1                             0.25   \n",
              "1                               1                             0.00   \n",
              "2                               1                             0.25   \n",
              "3                               2                             0.00   \n",
              "4                               2                             0.00   \n",
              "\n",
              "   emission_minyak_kelapa_sawit  \n",
              "0                           3.0  \n",
              "1                           0.0  \n",
              "2                           3.0  \n",
              "3                           0.0  \n",
              "4                           0.0  \n",
              "\n",
              "[5 rows x 22 columns]"
            ],
            "text/html": [
              "\n",
              "  <div id=\"df-ccb2b283-2fe4-4f64-81bf-00378f6bc0d4\">\n",
              "    <div class=\"colab-df-container\">\n",
              "      <div>\n",
              "<style scoped>\n",
              "    .dataframe tbody tr th:only-of-type {\n",
              "        vertical-align: middle;\n",
              "    }\n",
              "\n",
              "    .dataframe tbody tr th {\n",
              "        vertical-align: top;\n",
              "    }\n",
              "\n",
              "    .dataframe thead th {\n",
              "        text-align: right;\n",
              "    }\n",
              "</style>\n",
              "<table border=\"1\" class=\"dataframe\">\n",
              "  <thead>\n",
              "    <tr style=\"text-align: right;\">\n",
              "      <th></th>\n",
              "      <th>nomer</th>\n",
              "      <th>nama</th>\n",
              "      <th>email</th>\n",
              "      <th>tfep_kgco2e</th>\n",
              "      <th>num_people_jagung</th>\n",
              "      <th>consumption_jagung</th>\n",
              "      <th>emission_jagung</th>\n",
              "      <th>num_people_beras</th>\n",
              "      <th>consumption_beras</th>\n",
              "      <th>emission_beras</th>\n",
              "      <th>...</th>\n",
              "      <th>emission_singkong</th>\n",
              "      <th>num_people_kacang_kacangan</th>\n",
              "      <th>consumption_kacang_kacangan</th>\n",
              "      <th>emission_kacang_kacangan</th>\n",
              "      <th>num_people_daging_unggas</th>\n",
              "      <th>consumption_daging_unggas</th>\n",
              "      <th>emission_daging_unggas</th>\n",
              "      <th>num_people_minyak_kelapa_sawit</th>\n",
              "      <th>consumption_minyak_kelapa_sawit</th>\n",
              "      <th>emission_minyak_kelapa_sawit</th>\n",
              "    </tr>\n",
              "  </thead>\n",
              "  <tbody>\n",
              "    <tr>\n",
              "      <th>0</th>\n",
              "      <td>1</td>\n",
              "      <td>Aan **</td>\n",
              "      <td>*******a02@gmail.com</td>\n",
              "      <td>10.225000</td>\n",
              "      <td>2</td>\n",
              "      <td>0.00</td>\n",
              "      <td>0.000</td>\n",
              "      <td>2</td>\n",
              "      <td>0.50</td>\n",
              "      <td>2.200000</td>\n",
              "      <td>...</td>\n",
              "      <td>0.000</td>\n",
              "      <td>5</td>\n",
              "      <td>0.00</td>\n",
              "      <td>0.00</td>\n",
              "      <td>1</td>\n",
              "      <td>0.25</td>\n",
              "      <td>5.0250</td>\n",
              "      <td>1</td>\n",
              "      <td>0.25</td>\n",
              "      <td>3.0</td>\n",
              "    </tr>\n",
              "    <tr>\n",
              "      <th>1</th>\n",
              "      <td>2</td>\n",
              "      <td>Abdul *</td>\n",
              "      <td>*******e.4715@gmail.com</td>\n",
              "      <td>4.250000</td>\n",
              "      <td>1</td>\n",
              "      <td>0.25</td>\n",
              "      <td>0.575</td>\n",
              "      <td>1</td>\n",
              "      <td>0.25</td>\n",
              "      <td>2.200000</td>\n",
              "      <td>...</td>\n",
              "      <td>0.525</td>\n",
              "      <td>1</td>\n",
              "      <td>0.25</td>\n",
              "      <td>0.95</td>\n",
              "      <td>2</td>\n",
              "      <td>0.00</td>\n",
              "      <td>0.0000</td>\n",
              "      <td>1</td>\n",
              "      <td>0.00</td>\n",
              "      <td>0.0</td>\n",
              "    </tr>\n",
              "    <tr>\n",
              "      <th>2</th>\n",
              "      <td>3</td>\n",
              "      <td>Abhiseqa **</td>\n",
              "      <td>*******adatezan@gmail.com</td>\n",
              "      <td>6.883333</td>\n",
              "      <td>1</td>\n",
              "      <td>0.00</td>\n",
              "      <td>0.000</td>\n",
              "      <td>3</td>\n",
              "      <td>1.00</td>\n",
              "      <td>2.933333</td>\n",
              "      <td>...</td>\n",
              "      <td>0.000</td>\n",
              "      <td>1</td>\n",
              "      <td>0.25</td>\n",
              "      <td>0.95</td>\n",
              "      <td>1</td>\n",
              "      <td>0.00</td>\n",
              "      <td>0.0000</td>\n",
              "      <td>1</td>\n",
              "      <td>0.25</td>\n",
              "      <td>3.0</td>\n",
              "    </tr>\n",
              "    <tr>\n",
              "      <th>3</th>\n",
              "      <td>4</td>\n",
              "      <td>Achmad **</td>\n",
              "      <td>*******iki15@gmail.com</td>\n",
              "      <td>3.562500</td>\n",
              "      <td>1</td>\n",
              "      <td>0.00</td>\n",
              "      <td>0.000</td>\n",
              "      <td>1</td>\n",
              "      <td>0.00</td>\n",
              "      <td>0.000000</td>\n",
              "      <td>...</td>\n",
              "      <td>1.050</td>\n",
              "      <td>1</td>\n",
              "      <td>0.00</td>\n",
              "      <td>0.00</td>\n",
              "      <td>2</td>\n",
              "      <td>0.25</td>\n",
              "      <td>2.5125</td>\n",
              "      <td>2</td>\n",
              "      <td>0.00</td>\n",
              "      <td>0.0</td>\n",
              "    </tr>\n",
              "    <tr>\n",
              "      <th>4</th>\n",
              "      <td>5</td>\n",
              "      <td>Achmad **</td>\n",
              "      <td>*******@gmail.com</td>\n",
              "      <td>2.775000</td>\n",
              "      <td>1</td>\n",
              "      <td>0.25</td>\n",
              "      <td>0.575</td>\n",
              "      <td>1</td>\n",
              "      <td>0.25</td>\n",
              "      <td>2.200000</td>\n",
              "      <td>...</td>\n",
              "      <td>0.000</td>\n",
              "      <td>1</td>\n",
              "      <td>0.00</td>\n",
              "      <td>0.00</td>\n",
              "      <td>1</td>\n",
              "      <td>0.00</td>\n",
              "      <td>0.0000</td>\n",
              "      <td>2</td>\n",
              "      <td>0.00</td>\n",
              "      <td>0.0</td>\n",
              "    </tr>\n",
              "  </tbody>\n",
              "</table>\n",
              "<p>5 rows × 22 columns</p>\n",
              "</div>\n",
              "      <button class=\"colab-df-convert\" onclick=\"convertToInteractive('df-ccb2b283-2fe4-4f64-81bf-00378f6bc0d4')\"\n",
              "              title=\"Convert this dataframe to an interactive table.\"\n",
              "              style=\"display:none;\">\n",
              "        \n",
              "  <svg xmlns=\"http://www.w3.org/2000/svg\" height=\"24px\"viewBox=\"0 0 24 24\"\n",
              "       width=\"24px\">\n",
              "    <path d=\"M0 0h24v24H0V0z\" fill=\"none\"/>\n",
              "    <path d=\"M18.56 5.44l.94 2.06.94-2.06 2.06-.94-2.06-.94-.94-2.06-.94 2.06-2.06.94zm-11 1L8.5 8.5l.94-2.06 2.06-.94-2.06-.94L8.5 2.5l-.94 2.06-2.06.94zm10 10l.94 2.06.94-2.06 2.06-.94-2.06-.94-.94-2.06-.94 2.06-2.06.94z\"/><path d=\"M17.41 7.96l-1.37-1.37c-.4-.4-.92-.59-1.43-.59-.52 0-1.04.2-1.43.59L10.3 9.45l-7.72 7.72c-.78.78-.78 2.05 0 2.83L4 21.41c.39.39.9.59 1.41.59.51 0 1.02-.2 1.41-.59l7.78-7.78 2.81-2.81c.8-.78.8-2.07 0-2.86zM5.41 20L4 18.59l7.72-7.72 1.47 1.35L5.41 20z\"/>\n",
              "  </svg>\n",
              "      </button>\n",
              "      \n",
              "  <style>\n",
              "    .colab-df-container {\n",
              "      display:flex;\n",
              "      flex-wrap:wrap;\n",
              "      gap: 12px;\n",
              "    }\n",
              "\n",
              "    .colab-df-convert {\n",
              "      background-color: #E8F0FE;\n",
              "      border: none;\n",
              "      border-radius: 50%;\n",
              "      cursor: pointer;\n",
              "      display: none;\n",
              "      fill: #1967D2;\n",
              "      height: 32px;\n",
              "      padding: 0 0 0 0;\n",
              "      width: 32px;\n",
              "    }\n",
              "\n",
              "    .colab-df-convert:hover {\n",
              "      background-color: #E2EBFA;\n",
              "      box-shadow: 0px 1px 2px rgba(60, 64, 67, 0.3), 0px 1px 3px 1px rgba(60, 64, 67, 0.15);\n",
              "      fill: #174EA6;\n",
              "    }\n",
              "\n",
              "    [theme=dark] .colab-df-convert {\n",
              "      background-color: #3B4455;\n",
              "      fill: #D2E3FC;\n",
              "    }\n",
              "\n",
              "    [theme=dark] .colab-df-convert:hover {\n",
              "      background-color: #434B5C;\n",
              "      box-shadow: 0px 1px 3px 1px rgba(0, 0, 0, 0.15);\n",
              "      filter: drop-shadow(0px 1px 2px rgba(0, 0, 0, 0.3));\n",
              "      fill: #FFFFFF;\n",
              "    }\n",
              "  </style>\n",
              "\n",
              "      <script>\n",
              "        const buttonEl =\n",
              "          document.querySelector('#df-ccb2b283-2fe4-4f64-81bf-00378f6bc0d4 button.colab-df-convert');\n",
              "        buttonEl.style.display =\n",
              "          google.colab.kernel.accessAllowed ? 'block' : 'none';\n",
              "\n",
              "        async function convertToInteractive(key) {\n",
              "          const element = document.querySelector('#df-ccb2b283-2fe4-4f64-81bf-00378f6bc0d4');\n",
              "          const dataTable =\n",
              "            await google.colab.kernel.invokeFunction('convertToInteractive',\n",
              "                                                     [key], {});\n",
              "          if (!dataTable) return;\n",
              "\n",
              "          const docLinkHtml = 'Like what you see? Visit the ' +\n",
              "            '<a target=\"_blank\" href=https://colab.research.google.com/notebooks/data_table.ipynb>data table notebook</a>'\n",
              "            + ' to learn more about interactive tables.';\n",
              "          element.innerHTML = '';\n",
              "          dataTable['output_type'] = 'display_data';\n",
              "          await google.colab.output.renderOutput(dataTable, element);\n",
              "          const docLink = document.createElement('div');\n",
              "          docLink.innerHTML = docLinkHtml;\n",
              "          element.appendChild(docLink);\n",
              "        }\n",
              "      </script>\n",
              "    </div>\n",
              "  </div>\n",
              "  "
            ]
          },
          "metadata": {},
          "execution_count": 8
        }
      ]
    },
    {
      "cell_type": "code",
      "source": [
        "# Melihat jumlah baris dan kolom\n",
        "df.shape"
      ],
      "metadata": {
        "id": "nfOURLFHDuUc",
        "colab": {
          "base_uri": "https://localhost:8080/"
        },
        "outputId": "83fe40dc-0d19-478c-b5d8-ebe85ded665d"
      },
      "execution_count": 9,
      "outputs": [
        {
          "output_type": "execute_result",
          "data": {
            "text/plain": [
              "(653, 22)"
            ]
          },
          "metadata": {},
          "execution_count": 9
        }
      ]
    },
    {
      "cell_type": "code",
      "source": [
        "# Melihat info statistik data\n",
        "df.describe()"
      ],
      "metadata": {
        "id": "Q-KbDoo5DuXR",
        "colab": {
          "base_uri": "https://localhost:8080/",
          "height": 364
        },
        "outputId": "9b555b2e-4eb3-482e-ee10-e422db485ed0"
      },
      "execution_count": 10,
      "outputs": [
        {
          "output_type": "execute_result",
          "data": {
            "text/plain": [
              "            nomer  tfep_kgco2e  num_people_jagung  consumption_jagung  \\\n",
              "count  653.000000   653.000000         653.000000          653.000000   \n",
              "mean   327.000000     8.465791           1.517611            0.171899   \n",
              "std    188.649145     6.105886           1.019027            0.278696   \n",
              "min      1.000000     0.191667           1.000000            0.000000   \n",
              "25%    164.000000     4.716667           1.000000            0.000000   \n",
              "50%    327.000000     7.437500           1.000000            0.000000   \n",
              "75%    490.000000    10.375000           2.000000            0.250000   \n",
              "max    653.000000    57.175000           5.000000            2.000000   \n",
              "\n",
              "       emission_jagung  num_people_beras  consumption_beras  emission_beras  \\\n",
              "count       653.000000        653.000000         653.000000      653.000000   \n",
              "mean          0.322605          1.486983           0.459418        2.598673   \n",
              "std           0.545263          0.948958           0.396833        0.942678   \n",
              "min           0.000000          1.000000           0.000000        0.000000   \n",
              "25%           0.000000          1.000000           0.250000        2.200000   \n",
              "50%           0.000000          1.000000           0.250000        2.200000   \n",
              "75%           0.575000          2.000000           0.500000        2.933333   \n",
              "max           4.600000          5.000000           2.000000        4.400000   \n",
              "\n",
              "       num_people_singkong  consumption_singkong  emission_singkong  \\\n",
              "count           653.000000            653.000000         653.000000   \n",
              "mean              1.523737              0.175345           0.305687   \n",
              "std               0.997606              0.278438           0.499364   \n",
              "min               1.000000              0.000000           0.000000   \n",
              "25%               1.000000              0.000000           0.000000   \n",
              "50%               1.000000              0.000000           0.000000   \n",
              "75%               2.000000              0.250000           0.525000   \n",
              "max               5.000000              2.000000           4.200000   \n",
              "\n",
              "       num_people_kacang_kacangan  consumption_kacang_kacangan  \\\n",
              "count                  653.000000                   653.000000   \n",
              "mean                     1.505360                     0.187979   \n",
              "std                      0.991707                     0.285415   \n",
              "min                      1.000000                     0.000000   \n",
              "25%                      1.000000                     0.000000   \n",
              "50%                      1.000000                     0.250000   \n",
              "75%                      2.000000                     0.250000   \n",
              "max                      5.000000                     2.000000   \n",
              "\n",
              "       emission_kacang_kacangan  num_people_daging_unggas  \\\n",
              "count                653.000000                653.000000   \n",
              "mean                   0.595241                  1.476263   \n",
              "std                    0.994897                  0.948750   \n",
              "min                    0.000000                  1.000000   \n",
              "25%                    0.000000                  1.000000   \n",
              "50%                    0.237500                  1.000000   \n",
              "75%                    0.950000                  2.000000   \n",
              "max                    7.600000                  5.000000   \n",
              "\n",
              "       consumption_daging_unggas  emission_daging_unggas  \\\n",
              "count                 653.000000              653.000000   \n",
              "mean                    0.174579                2.881487   \n",
              "std                     0.273365                4.872286   \n",
              "min                     0.000000                0.000000   \n",
              "25%                     0.000000                0.000000   \n",
              "50%                     0.250000                1.005000   \n",
              "75%                     0.250000                5.025000   \n",
              "max                     2.000000               40.200000   \n",
              "\n",
              "       num_people_minyak_kelapa_sawit  consumption_minyak_kelapa_sawit  \\\n",
              "count                      653.000000                       653.000000   \n",
              "mean                         1.548239                         0.176493   \n",
              "std                          1.013506                         0.293975   \n",
              "min                          1.000000                         0.000000   \n",
              "25%                          1.000000                         0.000000   \n",
              "50%                          1.000000                         0.000000   \n",
              "75%                          2.000000                         0.250000   \n",
              "max                          5.000000                         2.000000   \n",
              "\n",
              "       emission_minyak_kelapa_sawit  \n",
              "count                    653.000000  \n",
              "mean                       1.762098  \n",
              "std                        3.106719  \n",
              "min                        0.000000  \n",
              "25%                        0.000000  \n",
              "50%                        0.000000  \n",
              "75%                        3.000000  \n",
              "max                       24.000000  "
            ],
            "text/html": [
              "\n",
              "  <div id=\"df-871edb41-56e9-4016-a206-3b1aa46b026e\">\n",
              "    <div class=\"colab-df-container\">\n",
              "      <div>\n",
              "<style scoped>\n",
              "    .dataframe tbody tr th:only-of-type {\n",
              "        vertical-align: middle;\n",
              "    }\n",
              "\n",
              "    .dataframe tbody tr th {\n",
              "        vertical-align: top;\n",
              "    }\n",
              "\n",
              "    .dataframe thead th {\n",
              "        text-align: right;\n",
              "    }\n",
              "</style>\n",
              "<table border=\"1\" class=\"dataframe\">\n",
              "  <thead>\n",
              "    <tr style=\"text-align: right;\">\n",
              "      <th></th>\n",
              "      <th>nomer</th>\n",
              "      <th>tfep_kgco2e</th>\n",
              "      <th>num_people_jagung</th>\n",
              "      <th>consumption_jagung</th>\n",
              "      <th>emission_jagung</th>\n",
              "      <th>num_people_beras</th>\n",
              "      <th>consumption_beras</th>\n",
              "      <th>emission_beras</th>\n",
              "      <th>num_people_singkong</th>\n",
              "      <th>consumption_singkong</th>\n",
              "      <th>emission_singkong</th>\n",
              "      <th>num_people_kacang_kacangan</th>\n",
              "      <th>consumption_kacang_kacangan</th>\n",
              "      <th>emission_kacang_kacangan</th>\n",
              "      <th>num_people_daging_unggas</th>\n",
              "      <th>consumption_daging_unggas</th>\n",
              "      <th>emission_daging_unggas</th>\n",
              "      <th>num_people_minyak_kelapa_sawit</th>\n",
              "      <th>consumption_minyak_kelapa_sawit</th>\n",
              "      <th>emission_minyak_kelapa_sawit</th>\n",
              "    </tr>\n",
              "  </thead>\n",
              "  <tbody>\n",
              "    <tr>\n",
              "      <th>count</th>\n",
              "      <td>653.000000</td>\n",
              "      <td>653.000000</td>\n",
              "      <td>653.000000</td>\n",
              "      <td>653.000000</td>\n",
              "      <td>653.000000</td>\n",
              "      <td>653.000000</td>\n",
              "      <td>653.000000</td>\n",
              "      <td>653.000000</td>\n",
              "      <td>653.000000</td>\n",
              "      <td>653.000000</td>\n",
              "      <td>653.000000</td>\n",
              "      <td>653.000000</td>\n",
              "      <td>653.000000</td>\n",
              "      <td>653.000000</td>\n",
              "      <td>653.000000</td>\n",
              "      <td>653.000000</td>\n",
              "      <td>653.000000</td>\n",
              "      <td>653.000000</td>\n",
              "      <td>653.000000</td>\n",
              "      <td>653.000000</td>\n",
              "    </tr>\n",
              "    <tr>\n",
              "      <th>mean</th>\n",
              "      <td>327.000000</td>\n",
              "      <td>8.465791</td>\n",
              "      <td>1.517611</td>\n",
              "      <td>0.171899</td>\n",
              "      <td>0.322605</td>\n",
              "      <td>1.486983</td>\n",
              "      <td>0.459418</td>\n",
              "      <td>2.598673</td>\n",
              "      <td>1.523737</td>\n",
              "      <td>0.175345</td>\n",
              "      <td>0.305687</td>\n",
              "      <td>1.505360</td>\n",
              "      <td>0.187979</td>\n",
              "      <td>0.595241</td>\n",
              "      <td>1.476263</td>\n",
              "      <td>0.174579</td>\n",
              "      <td>2.881487</td>\n",
              "      <td>1.548239</td>\n",
              "      <td>0.176493</td>\n",
              "      <td>1.762098</td>\n",
              "    </tr>\n",
              "    <tr>\n",
              "      <th>std</th>\n",
              "      <td>188.649145</td>\n",
              "      <td>6.105886</td>\n",
              "      <td>1.019027</td>\n",
              "      <td>0.278696</td>\n",
              "      <td>0.545263</td>\n",
              "      <td>0.948958</td>\n",
              "      <td>0.396833</td>\n",
              "      <td>0.942678</td>\n",
              "      <td>0.997606</td>\n",
              "      <td>0.278438</td>\n",
              "      <td>0.499364</td>\n",
              "      <td>0.991707</td>\n",
              "      <td>0.285415</td>\n",
              "      <td>0.994897</td>\n",
              "      <td>0.948750</td>\n",
              "      <td>0.273365</td>\n",
              "      <td>4.872286</td>\n",
              "      <td>1.013506</td>\n",
              "      <td>0.293975</td>\n",
              "      <td>3.106719</td>\n",
              "    </tr>\n",
              "    <tr>\n",
              "      <th>min</th>\n",
              "      <td>1.000000</td>\n",
              "      <td>0.191667</td>\n",
              "      <td>1.000000</td>\n",
              "      <td>0.000000</td>\n",
              "      <td>0.000000</td>\n",
              "      <td>1.000000</td>\n",
              "      <td>0.000000</td>\n",
              "      <td>0.000000</td>\n",
              "      <td>1.000000</td>\n",
              "      <td>0.000000</td>\n",
              "      <td>0.000000</td>\n",
              "      <td>1.000000</td>\n",
              "      <td>0.000000</td>\n",
              "      <td>0.000000</td>\n",
              "      <td>1.000000</td>\n",
              "      <td>0.000000</td>\n",
              "      <td>0.000000</td>\n",
              "      <td>1.000000</td>\n",
              "      <td>0.000000</td>\n",
              "      <td>0.000000</td>\n",
              "    </tr>\n",
              "    <tr>\n",
              "      <th>25%</th>\n",
              "      <td>164.000000</td>\n",
              "      <td>4.716667</td>\n",
              "      <td>1.000000</td>\n",
              "      <td>0.000000</td>\n",
              "      <td>0.000000</td>\n",
              "      <td>1.000000</td>\n",
              "      <td>0.250000</td>\n",
              "      <td>2.200000</td>\n",
              "      <td>1.000000</td>\n",
              "      <td>0.000000</td>\n",
              "      <td>0.000000</td>\n",
              "      <td>1.000000</td>\n",
              "      <td>0.000000</td>\n",
              "      <td>0.000000</td>\n",
              "      <td>1.000000</td>\n",
              "      <td>0.000000</td>\n",
              "      <td>0.000000</td>\n",
              "      <td>1.000000</td>\n",
              "      <td>0.000000</td>\n",
              "      <td>0.000000</td>\n",
              "    </tr>\n",
              "    <tr>\n",
              "      <th>50%</th>\n",
              "      <td>327.000000</td>\n",
              "      <td>7.437500</td>\n",
              "      <td>1.000000</td>\n",
              "      <td>0.000000</td>\n",
              "      <td>0.000000</td>\n",
              "      <td>1.000000</td>\n",
              "      <td>0.250000</td>\n",
              "      <td>2.200000</td>\n",
              "      <td>1.000000</td>\n",
              "      <td>0.000000</td>\n",
              "      <td>0.000000</td>\n",
              "      <td>1.000000</td>\n",
              "      <td>0.250000</td>\n",
              "      <td>0.237500</td>\n",
              "      <td>1.000000</td>\n",
              "      <td>0.250000</td>\n",
              "      <td>1.005000</td>\n",
              "      <td>1.000000</td>\n",
              "      <td>0.000000</td>\n",
              "      <td>0.000000</td>\n",
              "    </tr>\n",
              "    <tr>\n",
              "      <th>75%</th>\n",
              "      <td>490.000000</td>\n",
              "      <td>10.375000</td>\n",
              "      <td>2.000000</td>\n",
              "      <td>0.250000</td>\n",
              "      <td>0.575000</td>\n",
              "      <td>2.000000</td>\n",
              "      <td>0.500000</td>\n",
              "      <td>2.933333</td>\n",
              "      <td>2.000000</td>\n",
              "      <td>0.250000</td>\n",
              "      <td>0.525000</td>\n",
              "      <td>2.000000</td>\n",
              "      <td>0.250000</td>\n",
              "      <td>0.950000</td>\n",
              "      <td>2.000000</td>\n",
              "      <td>0.250000</td>\n",
              "      <td>5.025000</td>\n",
              "      <td>2.000000</td>\n",
              "      <td>0.250000</td>\n",
              "      <td>3.000000</td>\n",
              "    </tr>\n",
              "    <tr>\n",
              "      <th>max</th>\n",
              "      <td>653.000000</td>\n",
              "      <td>57.175000</td>\n",
              "      <td>5.000000</td>\n",
              "      <td>2.000000</td>\n",
              "      <td>4.600000</td>\n",
              "      <td>5.000000</td>\n",
              "      <td>2.000000</td>\n",
              "      <td>4.400000</td>\n",
              "      <td>5.000000</td>\n",
              "      <td>2.000000</td>\n",
              "      <td>4.200000</td>\n",
              "      <td>5.000000</td>\n",
              "      <td>2.000000</td>\n",
              "      <td>7.600000</td>\n",
              "      <td>5.000000</td>\n",
              "      <td>2.000000</td>\n",
              "      <td>40.200000</td>\n",
              "      <td>5.000000</td>\n",
              "      <td>2.000000</td>\n",
              "      <td>24.000000</td>\n",
              "    </tr>\n",
              "  </tbody>\n",
              "</table>\n",
              "</div>\n",
              "      <button class=\"colab-df-convert\" onclick=\"convertToInteractive('df-871edb41-56e9-4016-a206-3b1aa46b026e')\"\n",
              "              title=\"Convert this dataframe to an interactive table.\"\n",
              "              style=\"display:none;\">\n",
              "        \n",
              "  <svg xmlns=\"http://www.w3.org/2000/svg\" height=\"24px\"viewBox=\"0 0 24 24\"\n",
              "       width=\"24px\">\n",
              "    <path d=\"M0 0h24v24H0V0z\" fill=\"none\"/>\n",
              "    <path d=\"M18.56 5.44l.94 2.06.94-2.06 2.06-.94-2.06-.94-.94-2.06-.94 2.06-2.06.94zm-11 1L8.5 8.5l.94-2.06 2.06-.94-2.06-.94L8.5 2.5l-.94 2.06-2.06.94zm10 10l.94 2.06.94-2.06 2.06-.94-2.06-.94-.94-2.06-.94 2.06-2.06.94z\"/><path d=\"M17.41 7.96l-1.37-1.37c-.4-.4-.92-.59-1.43-.59-.52 0-1.04.2-1.43.59L10.3 9.45l-7.72 7.72c-.78.78-.78 2.05 0 2.83L4 21.41c.39.39.9.59 1.41.59.51 0 1.02-.2 1.41-.59l7.78-7.78 2.81-2.81c.8-.78.8-2.07 0-2.86zM5.41 20L4 18.59l7.72-7.72 1.47 1.35L5.41 20z\"/>\n",
              "  </svg>\n",
              "      </button>\n",
              "      \n",
              "  <style>\n",
              "    .colab-df-container {\n",
              "      display:flex;\n",
              "      flex-wrap:wrap;\n",
              "      gap: 12px;\n",
              "    }\n",
              "\n",
              "    .colab-df-convert {\n",
              "      background-color: #E8F0FE;\n",
              "      border: none;\n",
              "      border-radius: 50%;\n",
              "      cursor: pointer;\n",
              "      display: none;\n",
              "      fill: #1967D2;\n",
              "      height: 32px;\n",
              "      padding: 0 0 0 0;\n",
              "      width: 32px;\n",
              "    }\n",
              "\n",
              "    .colab-df-convert:hover {\n",
              "      background-color: #E2EBFA;\n",
              "      box-shadow: 0px 1px 2px rgba(60, 64, 67, 0.3), 0px 1px 3px 1px rgba(60, 64, 67, 0.15);\n",
              "      fill: #174EA6;\n",
              "    }\n",
              "\n",
              "    [theme=dark] .colab-df-convert {\n",
              "      background-color: #3B4455;\n",
              "      fill: #D2E3FC;\n",
              "    }\n",
              "\n",
              "    [theme=dark] .colab-df-convert:hover {\n",
              "      background-color: #434B5C;\n",
              "      box-shadow: 0px 1px 3px 1px rgba(0, 0, 0, 0.15);\n",
              "      filter: drop-shadow(0px 1px 2px rgba(0, 0, 0, 0.3));\n",
              "      fill: #FFFFFF;\n",
              "    }\n",
              "  </style>\n",
              "\n",
              "      <script>\n",
              "        const buttonEl =\n",
              "          document.querySelector('#df-871edb41-56e9-4016-a206-3b1aa46b026e button.colab-df-convert');\n",
              "        buttonEl.style.display =\n",
              "          google.colab.kernel.accessAllowed ? 'block' : 'none';\n",
              "\n",
              "        async function convertToInteractive(key) {\n",
              "          const element = document.querySelector('#df-871edb41-56e9-4016-a206-3b1aa46b026e');\n",
              "          const dataTable =\n",
              "            await google.colab.kernel.invokeFunction('convertToInteractive',\n",
              "                                                     [key], {});\n",
              "          if (!dataTable) return;\n",
              "\n",
              "          const docLinkHtml = 'Like what you see? Visit the ' +\n",
              "            '<a target=\"_blank\" href=https://colab.research.google.com/notebooks/data_table.ipynb>data table notebook</a>'\n",
              "            + ' to learn more about interactive tables.';\n",
              "          element.innerHTML = '';\n",
              "          dataTable['output_type'] = 'display_data';\n",
              "          await google.colab.output.renderOutput(dataTable, element);\n",
              "          const docLink = document.createElement('div');\n",
              "          docLink.innerHTML = docLinkHtml;\n",
              "          element.appendChild(docLink);\n",
              "        }\n",
              "      </script>\n",
              "    </div>\n",
              "  </div>\n",
              "  "
            ]
          },
          "metadata": {},
          "execution_count": 10
        }
      ]
    },
    {
      "cell_type": "code",
      "source": [
        "# Melihat tipe data\n",
        "print(df.dtypes)"
      ],
      "metadata": {
        "id": "bRwF7JdrDuZ8",
        "colab": {
          "base_uri": "https://localhost:8080/"
        },
        "outputId": "b6c96cb8-ca2b-4d5c-fd39-7bf3e5774f6d"
      },
      "execution_count": 11,
      "outputs": [
        {
          "output_type": "stream",
          "name": "stdout",
          "text": [
            "nomer                                int64\n",
            "nama                                object\n",
            "email                               object\n",
            "tfep_kgco2e                        float64\n",
            "num_people_jagung                    int64\n",
            "consumption_jagung                 float64\n",
            "emission_jagung                    float64\n",
            "num_people_beras                     int64\n",
            "consumption_beras                  float64\n",
            "emission_beras                     float64\n",
            "num_people_singkong                  int64\n",
            "consumption_singkong               float64\n",
            "emission_singkong                  float64\n",
            "num_people_kacang_kacangan           int64\n",
            "consumption_kacang_kacangan        float64\n",
            "emission_kacang_kacangan           float64\n",
            "num_people_daging_unggas             int64\n",
            "consumption_daging_unggas          float64\n",
            "emission_daging_unggas             float64\n",
            "num_people_minyak_kelapa_sawit       int64\n",
            "consumption_minyak_kelapa_sawit    float64\n",
            "emission_minyak_kelapa_sawit       float64\n",
            "dtype: object\n"
          ]
        }
      ]
    },
    {
      "cell_type": "code",
      "source": [
        "# melihat missing values\n",
        "df[df==0].count()"
      ],
      "metadata": {
        "id": "8jNR0vRqD9cb",
        "colab": {
          "base_uri": "https://localhost:8080/"
        },
        "outputId": "da27cbb9-1aa2-48be-cd21-fbb4358ece78"
      },
      "execution_count": 12,
      "outputs": [
        {
          "output_type": "execute_result",
          "data": {
            "text/plain": [
              "nomer                                0\n",
              "nama                                 0\n",
              "email                                0\n",
              "tfep_kgco2e                          0\n",
              "num_people_jagung                    0\n",
              "consumption_jagung                 328\n",
              "emission_jagung                    328\n",
              "num_people_beras                     0\n",
              "consumption_beras                   18\n",
              "emission_beras                      18\n",
              "num_people_singkong                  0\n",
              "consumption_singkong               329\n",
              "emission_singkong                  329\n",
              "num_people_kacang_kacangan           0\n",
              "consumption_kacang_kacangan        310\n",
              "emission_kacang_kacangan           310\n",
              "num_people_daging_unggas             0\n",
              "consumption_daging_unggas          322\n",
              "emission_daging_unggas             322\n",
              "num_people_minyak_kelapa_sawit       0\n",
              "consumption_minyak_kelapa_sawit    333\n",
              "emission_minyak_kelapa_sawit       333\n",
              "dtype: int64"
            ]
          },
          "metadata": {},
          "execution_count": 12
        }
      ]
    },
    {
      "cell_type": "markdown",
      "source": [
        "Pada tfep_kgco2e tidak terdapat user yang memiliki nilai 0 yang berarti seluruh responden melakukan konsumsi dari pilihan makanan sehingga seluruh responden menghasilkan emisi.\n",
        "Pada makanan jagung terdapat 328 baris yang memiliki nilai 0, sedangkan pada makanan beras terdapat 18 baris yang memiliki nilai 0, pada makanan singkong terdapat 329 baris yang memiliki nilai 0, kemudian pada makanan kacang-kacangan terdapat 310 baris yang memiliki nilai 0, pada makanan daging unggas terdapat 322 baris yang memiliki nilai 0 dan terakhir pada makanan minyak kelapa sawit terdapat 333 baris yang memiliki nilai 0.\n",
        "\n",
        "Seluruh baris tersebut tidak di drop karena responden bisa jadi tidak mengkonsumsi makanan tersebut pada hari tersebut."
      ],
      "metadata": {
        "id": "iH38CaYOM2GU"
      }
    },
    {
      "cell_type": "code",
      "source": [
        "# Subset kolom emisi\n",
        "emission_columns = ['emission_jagung', 'emission_beras', 'emission_singkong', 'emission_kacang_kacangan',\n",
        "                    'emission_daging_unggas', 'emission_minyak_kelapa_sawit']\n",
        "\n",
        "# Melihat korelasi antarkolom dengan kolom tfep_kgco2e\n",
        "sns.heatmap(df[emission_columns + ['tfep_kgco2e']].corr(), annot=True)\n",
        "plt.show()"
      ],
      "metadata": {
        "id": "HlNYu1e-D9e7",
        "colab": {
          "base_uri": "https://localhost:8080/",
          "height": 637
        },
        "outputId": "288810d1-8193-41e7-fd17-4ea3de14e1f6"
      },
      "execution_count": 13,
      "outputs": [
        {
          "output_type": "display_data",
          "data": {
            "text/plain": [
              "<Figure size 640x480 with 2 Axes>"
            ],
            "image/png": "[encoded data removed]"
          },
          "metadata": {}
        }
      ]
    },
    {
      "cell_type": "code",
      "source": [
        "# Membaca file CSV ke DataFrame\n",
        "df = pd.read_csv(file_path)\n",
        "\n",
        "# Membersihkan data yang tidak lengkap (Jika ada)\n",
        "df = df.dropna(axis=0)\n",
        "\n",
        "# Daftar makanan yang ingin dianalisis\n",
        "makanan_list = ['beras', 'singkong', 'jagung', 'kacang_kacangan', 'daging_unggas', 'minyak_kelapa_sawit']\n",
        "\n",
        "# Meloop melalui setiap makanan\n",
        "for makanan in makanan_list:\n",
        "    # Subset kolom fitur\n",
        "    features = df[[f'num_people_{makanan}', f'consumption_{makanan}']]\n",
        "    \n",
        "    # Menerapkan PCA pada fitur\n",
        "    pca = PCA(n_components=2)\n",
        "    transformed_features = pca.fit_transform(features)\n",
        "    \n",
        "    # Membuat DataFrame baru dari hasil PCA\n",
        "    pca_df = pd.DataFrame(data=transformed_features, columns=['PC1', 'PC2'])\n",
        "    \n",
        "    # Menambahkan kolom target\n",
        "    pca_df['emission'] = df[f'emission_{makanan}']\n",
        "    \n",
        "    # Melihat korelasi antar kolom dengan heatmap\n",
        "    sns.heatmap(pca_df.corr(), annot=True)\n",
        "    plt.title(f'PCA Correlation Heatmap for {makanan}')\n",
        "    plt.show()\n"
      ],
      "metadata": {
        "id": "6kSmkn16P1Oe",
        "colab": {
          "base_uri": "https://localhost:8080/",
          "height": 1000
        },
        "outputId": "625f7dc2-93b6-4088-db7c-fff38e1c44ad"
      },
      "execution_count": 14,
      "outputs": [
        {
          "output_type": "display_data",
          "data": {
            "text/plain": [
              "<Figure size 640x480 with 2 Axes>"
            ],
            "image/png": "[encoded data removed]"
          },
          "metadata": {}
        },
        {
          "output_type": "display_data",
          "data": {
            "text/plain": [
              "<Figure size 640x480 with 2 Axes>"
            ],
            "image/png": "[encoded data removed]"
          },
          "metadata": {}
        },
        {
          "output_type": "display_data",
          "data": {
            "text/plain": [
              "<Figure size 640x480 with 2 Axes>"
            ],
            "image/png": "[encoded data removed]"
          },
          "metadata": {}
        },
        {
          "output_type": "display_data",
          "data": {
            "text/plain": [
              "<Figure size 640x480 with 2 Axes>"
            ],
            "image/png": "[encoded data removed]"
          },
          "metadata": {}
        },
        {
          "output_type": "display_data",
          "data": {
            "text/plain": [
              "<Figure size 640x480 with 2 Axes>"
            ],
            "image/png": "[encoded data removed]"
          },
          "metadata": {}
        },
        {
          "output_type": "display_data",
          "data": {
            "text/plain": [
              "<Figure size 640x480 with 2 Axes>"
            ],
            "image/png": "[encoded data removed]"
          },
          "metadata": {}
        }
      ]
    },
    {
      "cell_type": "markdown",
      "source": [
        "### PREDIKSI EMISI BERAS"
      ],
      "metadata": {
        "id": "raHjtXJPEHPv"
      }
    },
    {
      "cell_type": "code",
      "source": [
        "# Memisahkan fitur dan target untuk beras\n",
        "beras_features = df[['num_people_beras', 'consumption_beras']]\n",
        "beras_target = df['emission_beras']\n",
        "\n",
        "# Membagi data beras menjadi set pelatihan dan pengujian\n",
        "beras_X_train, beras_X_test, beras_y_train, beras_y_test = train_test_split(beras_features, beras_target, test_size=0.2, random_state=42)\n",
        "\n",
        "# Membuat model Sequential untuk beras\n",
        "beras_model_tf = Sequential()\n",
        "beras_model_tf.add(Dense(64, input_dim=beras_X_train.shape[1], activation=None))\n",
        "beras_model_tf.add(Dropout(0.2))\n",
        "beras_model_tf.add(Dense(32, activation=None))\n",
        "beras_model_tf.add(Dropout(0.2))\n",
        "beras_model_tf.add(Dense(1))\n",
        "beras_model_tf.compile(loss='mean_absolute_error', optimizer=Adam())\n",
        "\n",
        "# Membuat EarlyStopping callback\n",
        "early_stopping = EarlyStopping(monitor='val_loss', patience=5)"
      ],
      "metadata": {
        "id": "FNOhKhXPD9hZ"
      },
      "execution_count": 15,
      "outputs": []
    },
    {
      "cell_type": "code",
      "source": [
        "# Melatih model dengan EarlyStopping callback\n",
        "beras_model_tf.fit(beras_X_train, beras_y_train, epochs=100, batch_size=32, validation_split=0.2, callbacks=[early_stopping])\n"
      ],
      "metadata": {
        "id": "zDHGJbPqD9mo",
        "colab": {
          "base_uri": "https://localhost:8080/"
        },
        "outputId": "5eebffa0-8881-41fb-8f31-e6e3fc1213dd"
      },
      "execution_count": 16,
      "outputs": [
        {
          "output_type": "stream",
          "name": "stdout",
          "text": [
            "Epoch 1/100\n",
            "14/14 [==============================] - 1s 16ms/step - loss: 2.0797 - val_loss: 1.1034\n",
            "Epoch 2/100\n",
            "14/14 [==============================] - 0s 4ms/step - loss: 1.1910 - val_loss: 0.9211\n",
            "Epoch 3/100\n",
            "14/14 [==============================] - 0s 5ms/step - loss: 1.0929 - val_loss: 0.8834\n",
            "Epoch 4/100\n",
            "14/14 [==============================] - 0s 4ms/step - loss: 1.0960 - val_loss: 0.8637\n",
            "Epoch 5/100\n",
            "14/14 [==============================] - 0s 5ms/step - loss: 1.0305 - val_loss: 0.7966\n",
            "Epoch 6/100\n",
            "14/14 [==============================] - 0s 5ms/step - loss: 0.9856 - val_loss: 0.7432\n",
            "Epoch 7/100\n",
            "14/14 [==============================] - 0s 4ms/step - loss: 0.9239 - val_loss: 0.6936\n",
            "Epoch 8/100\n",
            "14/14 [==============================] - 0s 4ms/step - loss: 0.8912 - val_loss: 0.6450\n",
            "Epoch 9/100\n",
            "14/14 [==============================] - 0s 5ms/step - loss: 0.8766 - val_loss: 0.5418\n",
            "Epoch 10/100\n",
            "14/14 [==============================] - 0s 5ms/step - loss: 0.8060 - val_loss: 0.4568\n",
            "Epoch 11/100\n",
            "14/14 [==============================] - 0s 4ms/step - loss: 0.7175 - val_loss: 0.3931\n",
            "Epoch 12/100\n",
            "14/14 [==============================] - 0s 5ms/step - loss: 0.7014 - val_loss: 0.3303\n",
            "Epoch 13/100\n",
            "14/14 [==============================] - 0s 4ms/step - loss: 0.6561 - val_loss: 0.2855\n",
            "Epoch 14/100\n",
            "14/14 [==============================] - 0s 5ms/step - loss: 0.6466 - val_loss: 0.2661\n",
            "Epoch 15/100\n",
            "14/14 [==============================] - 0s 4ms/step - loss: 0.6449 - val_loss: 0.2622\n",
            "Epoch 16/100\n",
            "14/14 [==============================] - 0s 6ms/step - loss: 0.6111 - val_loss: 0.3472\n",
            "Epoch 17/100\n",
            "14/14 [==============================] - 0s 4ms/step - loss: 0.6221 - val_loss: 0.2473\n",
            "Epoch 18/100\n",
            "14/14 [==============================] - 0s 6ms/step - loss: 0.5672 - val_loss: 0.3276\n",
            "Epoch 19/100\n",
            "14/14 [==============================] - 0s 5ms/step - loss: 0.5671 - val_loss: 0.2100\n",
            "Epoch 20/100\n",
            "14/14 [==============================] - 0s 9ms/step - loss: 0.5632 - val_loss: 0.2388\n",
            "Epoch 21/100\n",
            "14/14 [==============================] - 0s 17ms/step - loss: 0.5254 - val_loss: 0.2915\n",
            "Epoch 22/100\n",
            "14/14 [==============================] - 0s 12ms/step - loss: 0.5156 - val_loss: 0.2471\n",
            "Epoch 23/100\n",
            "14/14 [==============================] - 0s 10ms/step - loss: 0.5172 - val_loss: 0.2281\n",
            "Epoch 24/100\n",
            "14/14 [==============================] - 0s 17ms/step - loss: 0.4721 - val_loss: 0.2174\n"
          ]
        },
        {
          "output_type": "execute_result",
          "data": {
            "text/plain": [
              "<keras.src.callbacks.History at 0x7fd5e2d5b5e0>"
            ]
          },
          "metadata": {},
          "execution_count": 16
        }
      ]
    },
    {
      "cell_type": "code",
      "source": [
        "beras_y_pred_tf = beras_model_tf.predict(beras_X_test)\n",
        "beras_mae_tf = mean_absolute_error(beras_y_test, beras_y_pred_tf)\n",
        "print(\"Hasil evaluasi performa model TensorFlow untuk beras:\")\n",
        "print(\"MAE:\", beras_mae_tf)\n"
      ],
      "metadata": {
        "id": "AdNhaWwfD9pW",
        "colab": {
          "base_uri": "https://localhost:8080/"
        },
        "outputId": "3adffed0-2759-4e7b-f48d-40302b34dd6a"
      },
      "execution_count": 17,
      "outputs": [
        {
          "output_type": "stream",
          "name": "stdout",
          "text": [
            "5/5 [==============================] - 0s 3ms/step\n",
            "Hasil evaluasi performa model TensorFlow untuk beras:\n",
            "MAE: 0.2983385442513218\n"
          ]
        }
      ]
    },
    {
      "cell_type": "code",
      "source": [
        "# Simpan model untuk Beras\n",
        "beras_model_tf.save('new_model_beras.h5')"
      ],
      "metadata": {
        "id": "Tbk_1tl7Egqn",
        "colab": {
          "base_uri": "https://localhost:8080/"
        },
        "outputId": "aa867761-107e-4f71-acc1-3e6ae143b18b"
      },
      "execution_count": 18,
      "outputs": [
        {
          "output_type": "stream",
          "name": "stderr",
          "text": [
            "/usr/local/lib/python3.10/dist-packages/keras/src/engine/training.py:3000: UserWarning: You are saving your model as an HDF5 file via `model.save()`. This file format is considered legacy. We recommend using instead the native Keras format, e.g. `model.save('my_model.keras')`.\n",
            "  saving_api.save_model(\n"
          ]
        }
      ]
    },
    {
      "cell_type": "code",
      "source": [
        "# Memuat model yang telah disimpan\n",
        "model = load_model('new_model_beras.h5')\n",
        "\n",
        "# Menerima input dari pengguna\n",
        "num_people_beras_new = float(input(\"Masukkan jumlah orang yang mengkonsumsi beras: \"))\n",
        "consumption_beras_new = float(input(\"Masukkan jumlah konsumsi beras: \"))\n",
        "\n",
        "# Membuat DataFrame dengan data baru\n",
        "beras_data_baru = pd.DataFrame({'num_people_beras': [num_people_beras_new],\n",
        "                          'consumption_beras': [consumption_beras_new]})\n",
        "\n",
        "# Melakukan prediksi menggunakan model\n",
        "prediksi_beras = model.predict(beras_data_baru)\n",
        "\n",
        "# Menampilkan hasil prediksi\n",
        "print(\"Hasil prediksi konsumsi beras:\")\n",
        "print(prediksi_beras)\n"
      ],
      "metadata": {
        "id": "ADvw9PMvEvKG",
        "colab": {
          "base_uri": "https://localhost:8080/"
        },
        "outputId": "06a90868-55f8-4eb2-a364-20cad9241129"
      },
      "execution_count": 46,
      "outputs": [
        {
          "output_type": "stream",
          "name": "stdout",
          "text": [
            "Masukkan jumlah orang yang mengkonsumsi beras: 2\n",
            "Masukkan jumlah konsumsi beras: 1\n",
            "1/1 [==============================] - 0s 69ms/step\n",
            "Hasil prediksi konsumsi beras:\n",
            "[[3.5785487]]\n"
          ]
        }
      ]
    },
    {
      "cell_type": "markdown",
      "source": [
        "### PREDIKSI EMISI SINGKONG"
      ],
      "metadata": {
        "id": "FbFy9MX_LGUg"
      }
    },
    {
      "cell_type": "code",
      "source": [
        "# Memisahkan fitur dan target untuk singkong\n",
        "singkong_features = df[['num_people_singkong', 'consumption_singkong']]\n",
        "singkong_target = df['emission_singkong']\n",
        "\n",
        "# Membagi data singkong menjadi set pelatihan dan pengujian\n",
        "singkong_X_train, singkong_X_test, singkong_y_train, singkong_y_test = train_test_split(singkong_features, singkong_target, test_size=0.2, random_state=42)\n",
        "\n",
        "# Membuat model Sequential untuk singkong\n",
        "singkong_model_tf = Sequential()\n",
        "singkong_model_tf.add(Dense(64, input_dim=singkong_X_train.shape[1], activation=None))\n",
        "singkong_model_tf.add(Dropout(0.2))\n",
        "singkong_model_tf.add(Dense(32, activation=None))\n",
        "singkong_model_tf.add(Dropout(0.2))\n",
        "singkong_model_tf.add(Dense(1))\n",
        "singkong_model_tf.compile(loss='mean_absolute_error', optimizer=Adam())\n",
        "\n",
        "# Membuat EarlyStopping callback\n",
        "early_stopping = EarlyStopping(monitor='val_loss', patience=5)\n"
      ],
      "metadata": {
        "id": "fmKa8k8TLNL0"
      },
      "execution_count": 20,
      "outputs": []
    },
    {
      "cell_type": "code",
      "source": [
        "# Melatih model dengan EarlyStopping callback\n",
        "singkong_model_tf.fit(singkong_X_train, singkong_y_train, epochs=100, batch_size=32, validation_split=0.2, callbacks=[early_stopping])\n"
      ],
      "metadata": {
        "id": "his8BuUJLNUc",
        "colab": {
          "base_uri": "https://localhost:8080/"
        },
        "outputId": "6ec190b5-7caf-42fb-951f-d4a7fdd7bf01"
      },
      "execution_count": 21,
      "outputs": [
        {
          "output_type": "stream",
          "name": "stdout",
          "text": [
            "Epoch 1/100\n",
            "14/14 [==============================] - 1s 19ms/step - loss: 0.5641 - val_loss: 0.3627\n",
            "Epoch 2/100\n",
            "14/14 [==============================] - 0s 7ms/step - loss: 0.3775 - val_loss: 0.2086\n",
            "Epoch 3/100\n",
            "14/14 [==============================] - 0s 6ms/step - loss: 0.3389 - val_loss: 0.1716\n",
            "Epoch 4/100\n",
            "14/14 [==============================] - 0s 6ms/step - loss: 0.3439 - val_loss: 0.1625\n",
            "Epoch 5/100\n",
            "14/14 [==============================] - 0s 7ms/step - loss: 0.2811 - val_loss: 0.1344\n",
            "Epoch 6/100\n",
            "14/14 [==============================] - 0s 6ms/step - loss: 0.2865 - val_loss: 0.1146\n",
            "Epoch 7/100\n",
            "14/14 [==============================] - 0s 7ms/step - loss: 0.2590 - val_loss: 0.1529\n",
            "Epoch 8/100\n",
            "14/14 [==============================] - 0s 5ms/step - loss: 0.2513 - val_loss: 0.1906\n",
            "Epoch 9/100\n",
            "14/14 [==============================] - 0s 7ms/step - loss: 0.2392 - val_loss: 0.1026\n",
            "Epoch 10/100\n",
            "14/14 [==============================] - 0s 6ms/step - loss: 0.1989 - val_loss: 0.0893\n",
            "Epoch 11/100\n",
            "14/14 [==============================] - 0s 7ms/step - loss: 0.1978 - val_loss: 0.1117\n",
            "Epoch 12/100\n",
            "14/14 [==============================] - 0s 6ms/step - loss: 0.1923 - val_loss: 0.1061\n",
            "Epoch 13/100\n",
            "14/14 [==============================] - 0s 6ms/step - loss: 0.1847 - val_loss: 0.0960\n",
            "Epoch 14/100\n",
            "14/14 [==============================] - 0s 7ms/step - loss: 0.1932 - val_loss: 0.0949\n",
            "Epoch 15/100\n",
            "14/14 [==============================] - 0s 7ms/step - loss: 0.1813 - val_loss: 0.1186\n"
          ]
        },
        {
          "output_type": "execute_result",
          "data": {
            "text/plain": [
              "<keras.src.callbacks.History at 0x7fd5e87b6380>"
            ]
          },
          "metadata": {},
          "execution_count": 21
        }
      ]
    },
    {
      "cell_type": "code",
      "source": [
        "singkong_y_pred_tf = singkong_model_tf.predict(singkong_X_test)\n",
        "singkong_mae_tf = mean_absolute_error(singkong_y_test, singkong_y_pred_tf)\n",
        "print(\"Hasil evaluasi performa model TensorFlow untuk singkong:\")\n",
        "print(\"MAE:\", singkong_mae_tf)\n"
      ],
      "metadata": {
        "id": "Y4ZjBuS7LNYk",
        "colab": {
          "base_uri": "https://localhost:8080/"
        },
        "outputId": "13a89943-3d8e-49a0-f574-893728321e27"
      },
      "execution_count": 22,
      "outputs": [
        {
          "output_type": "stream",
          "name": "stdout",
          "text": [
            "5/5 [==============================] - 0s 3ms/step\n",
            "Hasil evaluasi performa model TensorFlow untuk singkong:\n",
            "MAE: 0.08072665391788457\n"
          ]
        }
      ]
    },
    {
      "cell_type": "code",
      "source": [
        "# Simpan model untuk Singkong\n",
        "singkong_model_tf.save('new_model_singkong.h5')\n"
      ],
      "metadata": {
        "id": "dHbQVgI1LNbP",
        "colab": {
          "base_uri": "https://localhost:8080/"
        },
        "outputId": "f6970f42-c55e-43eb-abc0-5a8e7a1287be"
      },
      "execution_count": 23,
      "outputs": [
        {
          "output_type": "stream",
          "name": "stderr",
          "text": [
            "/usr/local/lib/python3.10/dist-packages/keras/src/engine/training.py:3000: UserWarning: You are saving your model as an HDF5 file via `model.save()`. This file format is considered legacy. We recommend using instead the native Keras format, e.g. `model.save('my_model.keras')`.\n",
            "  saving_api.save_model(\n"
          ]
        }
      ]
    },
    {
      "cell_type": "code",
      "source": [
        "# Memuat model yang telah disimpan\n",
        "model = load_model('new_model_singkong.h5')\n",
        "\n",
        "# Menerima input dari pengguna\n",
        "num_people_singkong_new = float(input(\"Masukkan jumlah orang yang mengkonsumsi singkong: \"))\n",
        "consumption_singkong_new = float(input(\"Masukkan jumlah konsumsi singkong: \"))\n",
        "\n",
        "# Membuat DataFrame dengan data baru\n",
        "singkong_data_baru = pd.DataFrame({'num_people_singkong': [num_people_singkong_new],\n",
        "                          'consumption_singkong': [consumption_singkong_new]})\n",
        "\n",
        "# Melakukan prediksi menggunakan model\n",
        "prediksi_singkong = model.predict(singkong_data_baru)\n",
        "\n",
        "# Menampilkan hasil prediksi\n",
        "print(\"Hasil prediksi konsumsi singkong:\")\n",
        "print(prediksi_singkong)\n"
      ],
      "metadata": {
        "id": "hhXkvzPxLNd-",
        "colab": {
          "base_uri": "https://localhost:8080/"
        },
        "outputId": "56476aeb-7e2e-44f1-df1f-1668e3650b91"
      },
      "execution_count": 24,
      "outputs": [
        {
          "output_type": "stream",
          "name": "stdout",
          "text": [
            "Masukkan jumlah orang yang mengkonsumsi singkong: 1\n",
            "Masukkan jumlah konsumsi singkong: 1\n",
            "1/1 [==============================] - 0s 54ms/step\n",
            "Hasil prediksi konsumsi singkong:\n",
            "[[1.9077244]]\n"
          ]
        }
      ]
    },
    {
      "cell_type": "markdown",
      "source": [
        "### PREDIKSI EMISI JAGUNG"
      ],
      "metadata": {
        "id": "XnNWaz-bLHe6"
      }
    },
    {
      "cell_type": "code",
      "source": [
        "# Memisahkan fitur dan target untuk jagung\n",
        "jagung_features = df[['num_people_jagung', 'consumption_jagung']]\n",
        "jagung_target = df['emission_jagung']\n",
        "\n",
        "# Membagi data jagung menjadi set pelatihan dan pengujian\n",
        "jagung_X_train, jagung_X_test, jagung_y_train, jagung_y_test = train_test_split(jagung_features, jagung_target, test_size=0.2, random_state=42)\n",
        "\n",
        "# Membuat model Sequential untuk jagung\n",
        "jagung_model_tf = Sequential()\n",
        "jagung_model_tf.add(Dense(64, input_dim=jagung_X_train.shape[1], activation=None))\n",
        "jagung_model_tf.add(Dropout(0.2))\n",
        "jagung_model_tf.add(Dense(32, activation=None))\n",
        "jagung_model_tf.add(Dropout(0.2))\n",
        "jagung_model_tf.add(Dense(1))\n",
        "jagung_model_tf.compile(loss='mean_absolute_error', optimizer=Adam())\n",
        "\n",
        "# Membuat EarlyStopping callback\n",
        "early_stopping = EarlyStopping(monitor='val_loss', patience=5)\n"
      ],
      "metadata": {
        "id": "dLfFuH95LNxE"
      },
      "execution_count": 25,
      "outputs": []
    },
    {
      "cell_type": "code",
      "source": [
        "# Melatih model dengan EarlyStopping callback\n",
        "jagung_model_tf.fit(jagung_X_train, jagung_y_train, epochs=100, batch_size=32, validation_split=0.2, callbacks=[early_stopping])\n"
      ],
      "metadata": {
        "id": "czevOnihLNzO",
        "colab": {
          "base_uri": "https://localhost:8080/"
        },
        "outputId": "6283adad-2f91-4420-d2c9-763ad95aecf9"
      },
      "execution_count": 26,
      "outputs": [
        {
          "output_type": "stream",
          "name": "stdout",
          "text": [
            "Epoch 1/100\n",
            "14/14 [==============================] - 1s 13ms/step - loss: 0.5248 - val_loss: 0.4200\n",
            "Epoch 2/100\n",
            "14/14 [==============================] - 0s 5ms/step - loss: 0.4056 - val_loss: 0.2794\n",
            "Epoch 3/100\n",
            "14/14 [==============================] - 0s 4ms/step - loss: 0.3218 - val_loss: 0.2171\n",
            "Epoch 4/100\n",
            "14/14 [==============================] - 0s 5ms/step - loss: 0.3054 - val_loss: 0.1709\n",
            "Epoch 5/100\n",
            "14/14 [==============================] - 0s 5ms/step - loss: 0.2387 - val_loss: 0.1318\n",
            "Epoch 6/100\n",
            "14/14 [==============================] - 0s 4ms/step - loss: 0.2477 - val_loss: 0.1000\n",
            "Epoch 7/100\n",
            "14/14 [==============================] - 0s 4ms/step - loss: 0.2183 - val_loss: 0.1021\n",
            "Epoch 8/100\n",
            "14/14 [==============================] - 0s 5ms/step - loss: 0.2282 - val_loss: 0.1219\n",
            "Epoch 9/100\n",
            "14/14 [==============================] - 0s 5ms/step - loss: 0.2212 - val_loss: 0.1243\n",
            "Epoch 10/100\n",
            "14/14 [==============================] - 0s 5ms/step - loss: 0.2072 - val_loss: 0.1266\n",
            "Epoch 11/100\n",
            "14/14 [==============================] - 0s 6ms/step - loss: 0.2089 - val_loss: 0.1254\n"
          ]
        },
        {
          "output_type": "execute_result",
          "data": {
            "text/plain": [
              "<keras.src.callbacks.History at 0x7fd5d36b3730>"
            ]
          },
          "metadata": {},
          "execution_count": 26
        }
      ]
    },
    {
      "cell_type": "code",
      "source": [
        "jagung_y_pred_tf = jagung_model_tf.predict(jagung_X_test)\n",
        "jagung_mae_tf = mean_absolute_error(jagung_y_test, jagung_y_pred_tf)\n",
        "print(\"Hasil evaluasi performa model TensorFlow untuk jagung:\")\n",
        "print(\"MAE:\", jagung_mae_tf)\n"
      ],
      "metadata": {
        "id": "JlSK4maXLN1u",
        "colab": {
          "base_uri": "https://localhost:8080/"
        },
        "outputId": "e713bc16-8548-4548-9b55-ed2f7e6914e0"
      },
      "execution_count": 27,
      "outputs": [
        {
          "output_type": "stream",
          "name": "stderr",
          "text": [
            "WARNING:tensorflow:5 out of the last 13 calls to <function Model.make_predict_function.<locals>.predict_function at 0x7fd5e2c59ab0> triggered tf.function retracing. Tracing is expensive and the excessive number of tracings could be due to (1) creating @tf.function repeatedly in a loop, (2) passing tensors with different shapes, (3) passing Python objects instead of tensors. For (1), please define your @tf.function outside of the loop. For (2), @tf.function has reduce_retracing=True option that can avoid unnecessary retracing. For (3), please refer to https://www.tensorflow.org/guide/function#controlling_retracing and https://www.tensorflow.org/api_docs/python/tf/function for  more details.\n"
          ]
        },
        {
          "output_type": "stream",
          "name": "stdout",
          "text": [
            "5/5 [==============================] - 0s 3ms/step\n",
            "Hasil evaluasi performa model TensorFlow untuk jagung:\n",
            "MAE: 0.10614433675371797\n"
          ]
        }
      ]
    },
    {
      "cell_type": "code",
      "source": [
        "# Simpan model untuk Jagung\n",
        "jagung_model_tf.save('new_model_jagung.h5')\n"
      ],
      "metadata": {
        "id": "_4zJ5dbpLN4U",
        "colab": {
          "base_uri": "https://localhost:8080/"
        },
        "outputId": "88d49303-90de-4a93-cc59-3489c164c04c"
      },
      "execution_count": 28,
      "outputs": [
        {
          "output_type": "stream",
          "name": "stderr",
          "text": [
            "/usr/local/lib/python3.10/dist-packages/keras/src/engine/training.py:3000: UserWarning: You are saving your model as an HDF5 file via `model.save()`. This file format is considered legacy. We recommend using instead the native Keras format, e.g. `model.save('my_model.keras')`.\n",
            "  saving_api.save_model(\n"
          ]
        }
      ]
    },
    {
      "cell_type": "code",
      "source": [
        "# Memuat model yang telah disimpan\n",
        "model = load_model('new_model_jagung.h5')\n",
        "\n",
        "# Menerima input dari pengguna\n",
        "num_people_jagung_new = float(input(\"Masukkan jumlah orang yang mengkonsumsi jagung: \"))\n",
        "consumption_jagung_new = float(input(\"Masukkan jumlah konsumsi jagung: \"))\n",
        "\n",
        "# Membuat DataFrame dengan data baru\n",
        "jagung_data_baru = pd.DataFrame({'num_people_jagung': [num_people_jagung_new],\n",
        "                          'consumption_jagung': [consumption_jagung_new]})\n",
        "\n",
        "# Melakukan prediksi menggunakan model\n",
        "prediksi_jagung = model.predict(jagung_data_baru)\n",
        "\n",
        "# Menampilkan hasil prediksi\n",
        "print(\"Hasil prediksi konsumsi jagung:\")\n",
        "print(prediksi_jagung)\n"
      ],
      "metadata": {
        "id": "rtvXdxftLN6g",
        "colab": {
          "base_uri": "https://localhost:8080/"
        },
        "outputId": "2457ddd6-0c56-406e-8517-bd284c0b3da5"
      },
      "execution_count": 29,
      "outputs": [
        {
          "output_type": "stream",
          "name": "stdout",
          "text": [
            "Masukkan jumlah orang yang mengkonsumsi jagung: 1\n",
            "Masukkan jumlah konsumsi jagung: 1\n",
            "1/1 [==============================] - 0s 55ms/step\n",
            "Hasil prediksi konsumsi jagung:\n",
            "[[1.8865012]]\n"
          ]
        }
      ]
    },
    {
      "cell_type": "markdown",
      "source": [
        "### PREDIKSI EMISI KACANG-KACANGAN"
      ],
      "metadata": {
        "id": "2g6lWthALHhq"
      }
    },
    {
      "cell_type": "code",
      "source": [
        "# Memisahkan fitur dan target untuk kacang-kacangan\n",
        "kacang_features = df[['num_people_kacang_kacangan', 'consumption_kacang_kacangan']]\n",
        "kacang_target = df['emission_kacang_kacangan']\n",
        "\n",
        "# Membagi data kacang-kacangan menjadi set pelatihan dan pengujian\n",
        "kacang_X_train, kacang_X_test, kacang_y_train, kacang_y_test = train_test_split(kacang_features, kacang_target, test_size=0.2, random_state=42)\n",
        "\n",
        "# Membuat model Sequential untuk kacang-kacangan\n",
        "kacang_model_tf = Sequential()\n",
        "kacang_model_tf.add(Dense(64, input_dim=kacang_X_train.shape[1], activation=None))\n",
        "kacang_model_tf.add(Dropout(0.2))\n",
        "kacang_model_tf.add(Dense(32, activation=None))\n",
        "kacang_model_tf.add(Dropout(0.2))\n",
        "kacang_model_tf.add(Dense(1))\n",
        "kacang_model_tf.compile(loss='mean_absolute_error', optimizer=Adam())\n",
        "\n",
        "# Membuat EarlyStopping callback\n",
        "early_stopping = EarlyStopping(monitor='val_loss', patience=5)\n"
      ],
      "metadata": {
        "id": "j8OAcyn9LOVG"
      },
      "execution_count": 30,
      "outputs": []
    },
    {
      "cell_type": "code",
      "source": [
        "# Melatih model dengan EarlyStopping callback\n",
        "kacang_model_tf.fit(kacang_X_train, kacang_y_train, epochs=100, batch_size=32, validation_split=0.2, callbacks=[early_stopping])\n"
      ],
      "metadata": {
        "id": "_XwRHAbOLOXn",
        "colab": {
          "base_uri": "https://localhost:8080/"
        },
        "outputId": "6b2a9451-277e-44b4-d0b4-39a4407b67ca"
      },
      "execution_count": 31,
      "outputs": [
        {
          "output_type": "stream",
          "name": "stdout",
          "text": [
            "Epoch 1/100\n",
            "14/14 [==============================] - 1s 14ms/step - loss: 0.6910 - val_loss: 0.5199\n",
            "Epoch 2/100\n",
            "14/14 [==============================] - 0s 4ms/step - loss: 0.5951 - val_loss: 0.4344\n",
            "Epoch 3/100\n",
            "14/14 [==============================] - 0s 4ms/step - loss: 0.5338 - val_loss: 0.3470\n",
            "Epoch 4/100\n",
            "14/14 [==============================] - 0s 5ms/step - loss: 0.4708 - val_loss: 0.2785\n",
            "Epoch 5/100\n",
            "14/14 [==============================] - 0s 5ms/step - loss: 0.3889 - val_loss: 0.2633\n",
            "Epoch 6/100\n",
            "14/14 [==============================] - 0s 4ms/step - loss: 0.3314 - val_loss: 0.2045\n",
            "Epoch 7/100\n",
            "14/14 [==============================] - 0s 6ms/step - loss: 0.2872 - val_loss: 0.1642\n",
            "Epoch 8/100\n",
            "14/14 [==============================] - 0s 5ms/step - loss: 0.2912 - val_loss: 0.1991\n",
            "Epoch 9/100\n",
            "14/14 [==============================] - 0s 4ms/step - loss: 0.2452 - val_loss: 0.1563\n",
            "Epoch 10/100\n",
            "14/14 [==============================] - 0s 5ms/step - loss: 0.2656 - val_loss: 0.1553\n",
            "Epoch 11/100\n",
            "14/14 [==============================] - 0s 5ms/step - loss: 0.2598 - val_loss: 0.1548\n",
            "Epoch 12/100\n",
            "14/14 [==============================] - 0s 4ms/step - loss: 0.2561 - val_loss: 0.1587\n",
            "Epoch 13/100\n",
            "14/14 [==============================] - 0s 4ms/step - loss: 0.2391 - val_loss: 0.1451\n",
            "Epoch 14/100\n",
            "14/14 [==============================] - 0s 4ms/step - loss: 0.2225 - val_loss: 0.1487\n",
            "Epoch 15/100\n",
            "14/14 [==============================] - 0s 5ms/step - loss: 0.2346 - val_loss: 0.1503\n",
            "Epoch 16/100\n",
            "14/14 [==============================] - 0s 5ms/step - loss: 0.2203 - val_loss: 0.1975\n",
            "Epoch 17/100\n",
            "14/14 [==============================] - 0s 5ms/step - loss: 0.2631 - val_loss: 0.1714\n",
            "Epoch 18/100\n",
            "14/14 [==============================] - 0s 4ms/step - loss: 0.2381 - val_loss: 0.1504\n"
          ]
        },
        {
          "output_type": "execute_result",
          "data": {
            "text/plain": [
              "<keras.src.callbacks.History at 0x7fd5d347cb20>"
            ]
          },
          "metadata": {},
          "execution_count": 31
        }
      ]
    },
    {
      "cell_type": "code",
      "source": [
        "kacang_y_pred_tf = kacang_model_tf.predict(kacang_X_test)\n",
        "kacang_mae_tf = mean_absolute_error(kacang_y_test, kacang_y_pred_tf)\n",
        "print(\"Hasil evaluasi performa model TensorFlow untuk kacang-kacangan:\")\n",
        "print(\"MAE:\", kacang_mae_tf)\n"
      ],
      "metadata": {
        "id": "Ldjf46TILOZ7",
        "colab": {
          "base_uri": "https://localhost:8080/"
        },
        "outputId": "56773956-1b77-4513-a3db-1c7197f33051"
      },
      "execution_count": 32,
      "outputs": [
        {
          "output_type": "stream",
          "name": "stderr",
          "text": [
            "WARNING:tensorflow:5 out of the last 13 calls to <function Model.make_predict_function.<locals>.predict_function at 0x7fd5d335cc10> triggered tf.function retracing. Tracing is expensive and the excessive number of tracings could be due to (1) creating @tf.function repeatedly in a loop, (2) passing tensors with different shapes, (3) passing Python objects instead of tensors. For (1), please define your @tf.function outside of the loop. For (2), @tf.function has reduce_retracing=True option that can avoid unnecessary retracing. For (3), please refer to https://www.tensorflow.org/guide/function#controlling_retracing and https://www.tensorflow.org/api_docs/python/tf/function for  more details.\n"
          ]
        },
        {
          "output_type": "stream",
          "name": "stdout",
          "text": [
            "5/5 [==============================] - 0s 2ms/step\n",
            "Hasil evaluasi performa model TensorFlow untuk kacang-kacangan:\n",
            "MAE: 0.1130290971055488\n"
          ]
        }
      ]
    },
    {
      "cell_type": "code",
      "source": [
        "# Simpan model untuk kacang-kacangan\n",
        "kacang_model_tf.save('new_model_kacang.h5')\n"
      ],
      "metadata": {
        "id": "-I5j-XeHLOcd",
        "colab": {
          "base_uri": "https://localhost:8080/"
        },
        "outputId": "07ca3691-f61a-40e4-bdbc-b275b3ad89cf"
      },
      "execution_count": 33,
      "outputs": [
        {
          "output_type": "stream",
          "name": "stderr",
          "text": [
            "/usr/local/lib/python3.10/dist-packages/keras/src/engine/training.py:3000: UserWarning: You are saving your model as an HDF5 file via `model.save()`. This file format is considered legacy. We recommend using instead the native Keras format, e.g. `model.save('my_model.keras')`.\n",
            "  saving_api.save_model(\n"
          ]
        }
      ]
    },
    {
      "cell_type": "code",
      "source": [
        "# Memuat model yang telah disimpan\n",
        "model = load_model('new_model_kacang.h5')\n",
        "\n",
        "# Menerima input dari pengguna\n",
        "num_people_kacang_new = float(input(\"Masukkan jumlah orang yang mengkonsumsi kacang-kacangan: \"))\n",
        "consumption_kacang_new = float(input(\"Masukkan jumlah konsumsi kacang-kacangan: \"))\n",
        "\n",
        "# Membuat DataFrame dengan data baru\n",
        "kacang_data_baru = pd.DataFrame({'num_people_kacang': [num_people_kacang_new],\n",
        "                          'consumption_kacang': [consumption_kacang_new]})\n",
        "\n",
        "# Melakukan prediksi menggunakan model\n",
        "prediksi_kacang = model.predict(kacang_data_baru)\n",
        "\n",
        "# Menampilkan hasil prediksi\n",
        "print(\"Hasil prediksi konsumsi kacang-kacangan:\")\n",
        "print(prediksi_kacang)\n"
      ],
      "metadata": {
        "id": "MU7ybuvjLOeh",
        "colab": {
          "base_uri": "https://localhost:8080/"
        },
        "outputId": "d1fe1740-64f2-4bee-e566-0360075d8025"
      },
      "execution_count": 34,
      "outputs": [
        {
          "output_type": "stream",
          "name": "stdout",
          "text": [
            "Masukkan jumlah orang yang mengkonsumsi kacang-kacangan: 1\n",
            "Masukkan jumlah konsumsi kacang-kacangan: 1\n",
            "1/1 [==============================] - 0s 55ms/step\n",
            "Hasil prediksi konsumsi kacang-kacangan:\n",
            "[[3.53223]]\n"
          ]
        }
      ]
    },
    {
      "cell_type": "markdown",
      "source": [
        "### PREDIKSI EMISI DAGING"
      ],
      "metadata": {
        "id": "0MMM-_vyG6QO"
      }
    },
    {
      "cell_type": "code",
      "source": [
        "# Memisahkan fitur dan target untuk daging\n",
        "daging_features = df[['num_people_daging_unggas', 'consumption_daging_unggas']]\n",
        "daging_target = df['emission_daging_unggas']\n",
        "\n",
        "# Membagi data daging menjadi set pelatihan dan pengujian\n",
        "daging_X_train, daging_X_test, daging_y_train, daging_y_test = train_test_split(daging_features, daging_target, test_size=0.2, random_state=42)\n",
        "\n",
        "# Membuat model Sequential untuk daging\n",
        "daging_model_tf = Sequential()\n",
        "daging_model_tf.add(Dense(64, input_dim=daging_X_train.shape[1], activation=None))\n",
        "daging_model_tf.add(Dropout(0.2))\n",
        "daging_model_tf.add(Dense(32, activation=None))\n",
        "daging_model_tf.add(Dropout(0.2))\n",
        "daging_model_tf.add(Dense(1))\n",
        "daging_model_tf.compile(loss='mean_absolute_error', optimizer=Adam())\n",
        "\n",
        "# Membuat EarlyStopping callback\n",
        "early_stopping = EarlyStopping(monitor='val_loss', patience=5)\n"
      ],
      "metadata": {
        "id": "RxIWIEcDHD8W"
      },
      "execution_count": 35,
      "outputs": []
    },
    {
      "cell_type": "code",
      "source": [
        "# Melatih model dengan EarlyStopping callback\n",
        "daging_model_tf.fit(daging_X_train, daging_y_train, epochs=100, batch_size=32, validation_split=0.2, callbacks=[early_stopping])\n"
      ],
      "metadata": {
        "id": "SbuiXTx8KeAS",
        "colab": {
          "base_uri": "https://localhost:8080/"
        },
        "outputId": "3fca6e2a-7b68-4b14-bc7c-21a37c321aed"
      },
      "execution_count": 36,
      "outputs": [
        {
          "output_type": "stream",
          "name": "stdout",
          "text": [
            "Epoch 1/100\n",
            "14/14 [==============================] - 1s 14ms/step - loss: 2.7460 - val_loss: 3.1911\n",
            "Epoch 2/100\n",
            "14/14 [==============================] - 0s 5ms/step - loss: 2.6437 - val_loss: 3.0640\n",
            "Epoch 3/100\n",
            "14/14 [==============================] - 0s 4ms/step - loss: 2.5536 - val_loss: 2.9209\n",
            "Epoch 4/100\n",
            "14/14 [==============================] - 0s 5ms/step - loss: 2.3891 - val_loss: 2.7760\n",
            "Epoch 5/100\n",
            "14/14 [==============================] - 0s 5ms/step - loss: 2.3247 - val_loss: 2.6660\n",
            "Epoch 6/100\n",
            "14/14 [==============================] - 0s 4ms/step - loss: 2.1469 - val_loss: 2.4476\n",
            "Epoch 7/100\n",
            "14/14 [==============================] - 0s 6ms/step - loss: 2.0096 - val_loss: 2.2324\n",
            "Epoch 8/100\n",
            "14/14 [==============================] - 0s 5ms/step - loss: 1.8562 - val_loss: 2.0307\n",
            "Epoch 9/100\n",
            "14/14 [==============================] - 0s 4ms/step - loss: 1.7261 - val_loss: 1.7808\n",
            "Epoch 10/100\n",
            "14/14 [==============================] - 0s 4ms/step - loss: 1.5534 - val_loss: 1.6145\n",
            "Epoch 11/100\n",
            "14/14 [==============================] - 0s 4ms/step - loss: 1.4238 - val_loss: 1.3869\n",
            "Epoch 12/100\n",
            "14/14 [==============================] - 0s 5ms/step - loss: 1.3364 - val_loss: 1.2740\n",
            "Epoch 13/100\n",
            "14/14 [==============================] - 0s 5ms/step - loss: 1.2151 - val_loss: 1.1512\n",
            "Epoch 14/100\n",
            "14/14 [==============================] - 0s 4ms/step - loss: 1.1216 - val_loss: 1.0210\n",
            "Epoch 15/100\n",
            "14/14 [==============================] - 0s 5ms/step - loss: 1.0140 - val_loss: 0.8857\n",
            "Epoch 16/100\n",
            "14/14 [==============================] - 0s 6ms/step - loss: 1.0377 - val_loss: 0.7938\n",
            "Epoch 17/100\n",
            "14/14 [==============================] - 0s 6ms/step - loss: 0.9392 - val_loss: 0.7599\n",
            "Epoch 18/100\n",
            "14/14 [==============================] - 0s 5ms/step - loss: 0.9882 - val_loss: 0.6995\n",
            "Epoch 19/100\n",
            "14/14 [==============================] - 0s 5ms/step - loss: 0.9293 - val_loss: 0.7717\n",
            "Epoch 20/100\n",
            "14/14 [==============================] - 0s 5ms/step - loss: 0.9383 - val_loss: 0.7940\n",
            "Epoch 21/100\n",
            "14/14 [==============================] - 0s 4ms/step - loss: 0.9846 - val_loss: 0.8215\n",
            "Epoch 22/100\n",
            "14/14 [==============================] - 0s 5ms/step - loss: 1.0692 - val_loss: 0.8193\n",
            "Epoch 23/100\n",
            "14/14 [==============================] - 0s 5ms/step - loss: 0.9034 - val_loss: 0.8122\n"
          ]
        },
        {
          "output_type": "execute_result",
          "data": {
            "text/plain": [
              "<keras.src.callbacks.History at 0x7fd5d325a320>"
            ]
          },
          "metadata": {},
          "execution_count": 36
        }
      ]
    },
    {
      "cell_type": "code",
      "source": [
        "daging_y_pred_tf = daging_model_tf.predict(daging_X_test)\n",
        "daging_mae_tf = mean_absolute_error(daging_y_test, daging_y_pred_tf)\n",
        "print(\"Hasil evaluasi performa model TensorFlow untuk daging:\")\n",
        "print(\"MAE:\", daging_mae_tf)\n"
      ],
      "metadata": {
        "id": "B3Cb3YQcKeCk",
        "colab": {
          "base_uri": "https://localhost:8080/"
        },
        "outputId": "a139e849-7574-4db5-8f3b-10ad7c337225"
      },
      "execution_count": 37,
      "outputs": [
        {
          "output_type": "stream",
          "name": "stdout",
          "text": [
            "5/5 [==============================] - 0s 2ms/step\n",
            "Hasil evaluasi performa model TensorFlow untuk daging:\n",
            "MAE: 0.6182376171568879\n"
          ]
        }
      ]
    },
    {
      "cell_type": "code",
      "source": [
        "# Simpan model untuk Daging\n",
        "daging_model_tf.save('new_model_daging.h5')\n"
      ],
      "metadata": {
        "id": "JgfipRtYKeE8",
        "colab": {
          "base_uri": "https://localhost:8080/"
        },
        "outputId": "190b0389-c6ca-4ef6-8454-0025bf133441"
      },
      "execution_count": 38,
      "outputs": [
        {
          "output_type": "stream",
          "name": "stderr",
          "text": [
            "/usr/local/lib/python3.10/dist-packages/keras/src/engine/training.py:3000: UserWarning: You are saving your model as an HDF5 file via `model.save()`. This file format is considered legacy. We recommend using instead the native Keras format, e.g. `model.save('my_model.keras')`.\n",
            "  saving_api.save_model(\n"
          ]
        }
      ]
    },
    {
      "cell_type": "code",
      "source": [
        "# Memuat model yang telah disimpan\n",
        "model = load_model('new_model_daging.h5')\n",
        "\n",
        "# Menerima input dari pengguna\n",
        "num_people_daging_new = float(input(\"Masukkan nilai num_people_daging baru: \"))\n",
        "consumption_daging_new = float(input(\"Masukkan nilai consumption_daging baru: \"))\n",
        "\n",
        "# Membuat DataFrame dengan data baru\n",
        "data_baru = pd.DataFrame({'num_people_daging': [num_people_daging_new],\n",
        "                          'consumption_daging': [consumption_daging_new]})\n",
        "\n",
        "# Melakukan prediksi menggunakan model\n",
        "prediksi_daging = model.predict(data_baru)\n",
        "\n",
        "# Menampilkan hasil prediksi\n",
        "print(\"Hasil prediksi konsumsi daging:\")\n",
        "print(prediksi_daging)\n"
      ],
      "metadata": {
        "id": "zzuZpskxKeHg",
        "colab": {
          "base_uri": "https://localhost:8080/"
        },
        "outputId": "2a9608ec-44e9-4e42-811c-61b65e93730c"
      },
      "execution_count": 39,
      "outputs": [
        {
          "output_type": "stream",
          "name": "stdout",
          "text": [
            "Masukkan nilai num_people_daging baru: 1\n",
            "Masukkan nilai consumption_daging baru: 1\n",
            "1/1 [==============================] - 0s 81ms/step\n",
            "Hasil prediksi konsumsi daging:\n",
            "[[17.954044]]\n"
          ]
        }
      ]
    },
    {
      "cell_type": "markdown",
      "source": [
        "### PREDIKSI EMISI MINYAK"
      ],
      "metadata": {
        "id": "sgON9yn9G6Sj"
      }
    },
    {
      "cell_type": "code",
      "source": [
        "# Memisahkan fitur dan target untuk minyak\n",
        "minyak_features = df[['num_people_minyak_kelapa_sawit', 'consumption_minyak_kelapa_sawit']]\n",
        "minyak_target = df['emission_minyak_kelapa_sawit']\n",
        "\n",
        "# Membagi data minyak menjadi set pelatihan dan pengujian\n",
        "minyak_X_train, minyak_X_test, minyak_y_train, minyak_y_test = train_test_split(minyak_features, minyak_target, test_size=0.2, random_state=42)\n",
        "\n",
        "# Membuat model Sequential untuk minyak\n",
        "minyak_model_tf = Sequential()\n",
        "minyak_model_tf.add(Dense(64, input_dim=minyak_X_train.shape[1], activation=None))\n",
        "minyak_model_tf.add(Dropout(0.2))\n",
        "minyak_model_tf.add(Dense(32, activation=None))\n",
        "minyak_model_tf.add(Dropout(0.2))\n",
        "minyak_model_tf.add(Dense(1))\n",
        "minyak_model_tf.compile(loss='mean_absolute_error', optimizer=Adam())\n",
        "\n",
        "# Membuat EarlyStopping callback\n",
        "early_stopping = EarlyStopping(monitor='val_loss', patience=5)"
      ],
      "metadata": {
        "id": "61Yfo9bBHEUT"
      },
      "execution_count": 40,
      "outputs": []
    },
    {
      "cell_type": "code",
      "source": [
        "# Melatih model dengan EarlyStopping callback\n",
        "minyak_model_tf.fit(minyak_X_train, minyak_y_train, epochs=100, batch_size=32, validation_split=0.2, callbacks=[early_stopping])\n"
      ],
      "metadata": {
        "id": "1W5T4r87MPwN",
        "colab": {
          "base_uri": "https://localhost:8080/"
        },
        "outputId": "dc9040b4-610b-4e6e-c0c6-dc654d2e16f4"
      },
      "execution_count": 41,
      "outputs": [
        {
          "output_type": "stream",
          "name": "stdout",
          "text": [
            "Epoch 1/100\n",
            "14/14 [==============================] - 1s 20ms/step - loss: 1.7636 - val_loss: 1.3826\n",
            "Epoch 2/100\n",
            "14/14 [==============================] - 0s 7ms/step - loss: 1.6431 - val_loss: 1.4270\n",
            "Epoch 3/100\n",
            "14/14 [==============================] - 0s 6ms/step - loss: 1.5538 - val_loss: 1.3126\n",
            "Epoch 4/100\n",
            "14/14 [==============================] - 0s 6ms/step - loss: 1.4791 - val_loss: 1.2115\n",
            "Epoch 5/100\n",
            "14/14 [==============================] - 0s 6ms/step - loss: 1.3665 - val_loss: 1.1382\n",
            "Epoch 6/100\n",
            "14/14 [==============================] - 0s 6ms/step - loss: 1.2385 - val_loss: 0.9638\n",
            "Epoch 7/100\n",
            "14/14 [==============================] - 0s 6ms/step - loss: 1.0762 - val_loss: 0.8617\n",
            "Epoch 8/100\n",
            "14/14 [==============================] - 0s 6ms/step - loss: 0.9815 - val_loss: 0.7755\n",
            "Epoch 9/100\n",
            "14/14 [==============================] - 0s 7ms/step - loss: 0.8758 - val_loss: 0.6867\n",
            "Epoch 10/100\n",
            "14/14 [==============================] - 0s 8ms/step - loss: 0.7603 - val_loss: 0.6048\n",
            "Epoch 11/100\n",
            "14/14 [==============================] - 0s 7ms/step - loss: 0.7187 - val_loss: 0.6143\n",
            "Epoch 12/100\n",
            "14/14 [==============================] - 0s 7ms/step - loss: 0.6855 - val_loss: 0.5460\n",
            "Epoch 13/100\n",
            "14/14 [==============================] - 0s 6ms/step - loss: 0.6426 - val_loss: 0.5125\n",
            "Epoch 14/100\n",
            "14/14 [==============================] - 0s 7ms/step - loss: 0.5959 - val_loss: 0.4857\n",
            "Epoch 15/100\n",
            "14/14 [==============================] - 0s 7ms/step - loss: 0.6088 - val_loss: 0.4678\n",
            "Epoch 16/100\n",
            "14/14 [==============================] - 0s 7ms/step - loss: 0.5440 - val_loss: 0.4532\n",
            "Epoch 17/100\n",
            "14/14 [==============================] - 0s 6ms/step - loss: 0.5842 - val_loss: 0.4419\n",
            "Epoch 18/100\n",
            "14/14 [==============================] - 0s 6ms/step - loss: 0.5655 - val_loss: 0.4267\n",
            "Epoch 19/100\n",
            "14/14 [==============================] - 0s 7ms/step - loss: 0.5865 - val_loss: 0.4316\n",
            "Epoch 20/100\n",
            "14/14 [==============================] - 0s 7ms/step - loss: 0.5766 - val_loss: 0.4260\n",
            "Epoch 21/100\n",
            "14/14 [==============================] - 0s 6ms/step - loss: 0.5863 - val_loss: 0.4377\n",
            "Epoch 22/100\n",
            "14/14 [==============================] - 0s 7ms/step - loss: 0.5749 - val_loss: 0.4217\n",
            "Epoch 23/100\n",
            "14/14 [==============================] - 0s 7ms/step - loss: 0.5370 - val_loss: 0.4260\n",
            "Epoch 24/100\n",
            "14/14 [==============================] - 0s 7ms/step - loss: 0.5138 - val_loss: 0.4206\n",
            "Epoch 25/100\n",
            "14/14 [==============================] - 0s 7ms/step - loss: 0.5082 - val_loss: 0.4135\n",
            "Epoch 26/100\n",
            "14/14 [==============================] - 0s 7ms/step - loss: 0.5712 - val_loss: 0.4034\n",
            "Epoch 27/100\n",
            "14/14 [==============================] - 0s 7ms/step - loss: 0.5329 - val_loss: 0.4094\n",
            "Epoch 28/100\n",
            "14/14 [==============================] - 0s 7ms/step - loss: 0.5546 - val_loss: 0.4205\n",
            "Epoch 29/100\n",
            "14/14 [==============================] - 0s 6ms/step - loss: 0.5663 - val_loss: 0.4206\n",
            "Epoch 30/100\n",
            "14/14 [==============================] - 0s 7ms/step - loss: 0.5204 - val_loss: 0.4160\n",
            "Epoch 31/100\n",
            "14/14 [==============================] - 0s 7ms/step - loss: 0.4780 - val_loss: 0.4033\n",
            "Epoch 32/100\n",
            "14/14 [==============================] - 0s 7ms/step - loss: 0.5303 - val_loss: 0.3944\n",
            "Epoch 33/100\n",
            "14/14 [==============================] - 0s 7ms/step - loss: 0.5696 - val_loss: 0.4253\n",
            "Epoch 34/100\n",
            "14/14 [==============================] - 0s 7ms/step - loss: 0.5542 - val_loss: 0.4194\n",
            "Epoch 35/100\n",
            "14/14 [==============================] - 0s 7ms/step - loss: 0.5518 - val_loss: 0.4111\n",
            "Epoch 36/100\n",
            "14/14 [==============================] - 0s 7ms/step - loss: 0.4711 - val_loss: 0.3977\n",
            "Epoch 37/100\n",
            "14/14 [==============================] - 0s 7ms/step - loss: 0.5474 - val_loss: 0.4533\n"
          ]
        },
        {
          "output_type": "execute_result",
          "data": {
            "text/plain": [
              "<keras.src.callbacks.History at 0x7fd5d3014a90>"
            ]
          },
          "metadata": {},
          "execution_count": 41
        }
      ]
    },
    {
      "cell_type": "code",
      "source": [
        "minyak_y_pred_tf = minyak_model_tf.predict(minyak_X_test)\n",
        "minyak_mae_tf = mean_absolute_error(minyak_y_test, minyak_y_pred_tf)\n",
        "print(\"Hasil evaluasi performa model TensorFlow untuk minyak:\")\n",
        "print(\"MAE:\", minyak_mae_tf)\n"
      ],
      "metadata": {
        "id": "7KpXYCW5MPys",
        "colab": {
          "base_uri": "https://localhost:8080/"
        },
        "outputId": "224e6a8a-69d3-4b4e-f22e-cc0ad81c5f14"
      },
      "execution_count": 42,
      "outputs": [
        {
          "output_type": "stream",
          "name": "stdout",
          "text": [
            "5/5 [==============================] - 0s 3ms/step\n",
            "Hasil evaluasi performa model TensorFlow untuk minyak:\n",
            "MAE: 0.6407227665413426\n"
          ]
        }
      ]
    },
    {
      "cell_type": "code",
      "source": [
        "# Simpan model untuk Minyak\n",
        "minyak_model_tf.save('new_model_minyak.h5')\n"
      ],
      "metadata": {
        "id": "cAaWd-dcMP1Y",
        "colab": {
          "base_uri": "https://localhost:8080/"
        },
        "outputId": "2fceefc8-c9e5-4a0c-b3dc-2a8f92b77eb2"
      },
      "execution_count": 43,
      "outputs": [
        {
          "output_type": "stream",
          "name": "stderr",
          "text": [
            "/usr/local/lib/python3.10/dist-packages/keras/src/engine/training.py:3000: UserWarning: You are saving your model as an HDF5 file via `model.save()`. This file format is considered legacy. We recommend using instead the native Keras format, e.g. `model.save('my_model.keras')`.\n",
            "  saving_api.save_model(\n"
          ]
        }
      ]
    },
    {
      "cell_type": "code",
      "source": [
        "# Memuat model yang telah disimpan\n",
        "model = load_model('new_model_minyak.h5')\n",
        "\n",
        "# Menerima input dari pengguna\n",
        "num_people_minyak_new = float(input(\"Masukkan jumlah orang yang mengkonsumsi minyak: \"))\n",
        "consumption_minyak_new = float(input(\"Masukkan jumlah konsumsi minyak: \"))\n",
        "\n",
        "# Membuat DataFrame dengan data baru\n",
        "minyak_data_baru = pd.DataFrame({'num_people_minyak': [num_people_minyak_new],\n",
        "                          'consumption_minyak': [consumption_minyak_new]})\n",
        "\n",
        "# Melakukan prediksi menggunakan model\n",
        "prediksi_minyak = model.predict(minyak_data_baru)\n",
        "\n",
        "# Menampilkan hasil prediksi\n",
        "print(\"Hasil prediksi konsumsi minyak:\")\n",
        "print(prediksi_minyak)\n"
      ],
      "metadata": {
        "id": "5tKrOe6gMP35",
        "colab": {
          "base_uri": "https://localhost:8080/"
        },
        "outputId": "5faf277b-58e0-430a-b299-03d81688dd41"
      },
      "execution_count": 44,
      "outputs": [
        {
          "output_type": "stream",
          "name": "stdout",
          "text": [
            "Masukkan jumlah orang yang mengkonsumsi minyak: 1\n",
            "Masukkan jumlah konsumsi minyak: 1\n",
            "1/1 [==============================] - 0s 92ms/step\n",
            "Hasil prediksi konsumsi minyak:\n",
            "[[11.004383]]\n"
          ]
        }
      ]
    },
    {
      "cell_type": "code",
      "source": [],
      "metadata": {
        "id": "SbnGL3-SUpuz"
      },
      "execution_count": 44,
      "outputs": []
    },
    {
      "cell_type": "code",
      "source": [
        "# List nama file model h5\n",
        "model_files = [\n",
        "    'new_model_beras.h5',\n",
        "    'new_model_daging.h5',\n",
        "    'new_model_jagung.h5',\n",
        "    'new_model_kacang.h5',\n",
        "    'new_model_minyak.h5',\n",
        "    'new_model_singkong.h5'\n",
        "]\n",
        "\n",
        "for model_file in model_files:\n",
        "    # Memuat model\n",
        "    model = load_model(model_file)\n",
        "\n",
        "    # Konversi model TensorFlow ke model TFLite\n",
        "    converter = tf.lite.TFLiteConverter.from_keras_model(model)\n",
        "    tflite_model = converter.convert()\n",
        "\n",
        "    # Simpan model TFLite\n",
        "    tflite_filename = model_file.replace('.h5', '.tflite')\n",
        "    with open(tflite_filename, 'wb') as f:\n",
        "        f.write(tflite_model)\n",
        "\n",
        "    print(f\"Model {model_file} berhasil dikonversi menjadi {tflite_filename}\")\n"
      ],
      "metadata": {
        "id": "AEGzKZWcVPvy",
        "colab": {
          "base_uri": "https://localhost:8080/"
        },
        "outputId": "fabf9778-cdd0-4a5c-bea2-75a7dde7e3d5"
      },
      "execution_count": 45,
      "outputs": [
        {
          "output_type": "stream",
          "name": "stdout",
          "text": [
            "Model new_model_beras.h5 berhasil dikonversi menjadi new_model_beras.tflite\n",
            "Model new_model_daging.h5 berhasil dikonversi menjadi new_model_daging.tflite\n",
            "Model new_model_jagung.h5 berhasil dikonversi menjadi new_model_jagung.tflite\n",
            "Model new_model_kacang.h5 berhasil dikonversi menjadi new_model_kacang.tflite\n",
            "Model new_model_minyak.h5 berhasil dikonversi menjadi new_model_minyak.tflite\n",
            "Model new_model_singkong.h5 berhasil dikonversi menjadi new_model_singkong.tflite\n"
          ]
        }
      ]
    },
    {
      "cell_type": "code",
      "source": [],
      "metadata": {
        "id": "olHAvErccfN_"
      },
      "execution_count": 45,
      "outputs": []
    }
  ]
}